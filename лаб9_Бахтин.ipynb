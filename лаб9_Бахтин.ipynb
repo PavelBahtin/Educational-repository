{
  "cells": [
    {
      "cell_type": "markdown",
      "metadata": {
        "id": "m2s4kN_QPQVe"
      },
      "source": [
        "# Введение в обучение с подкреплением  (Reinforcement Learning)\n",
        "\n",
        "\n",
        "<center>\n",
        "<img src=\"https://raw.githubusercontent.com/jcformanek/jcformanek.github.io/master/docs/assets/images/rl_in_space.png\" width=\"100%\" />\n",
        "</center>\n",
        "\n",
        "\n",
        "\n",
        "**Введение**\n",
        "\n",
        "На этом семинаре мы изучим обучение с подкреплением - тип машинного обучения без учителя, где агент учится выбирать действия, которые приводят к максимальному вознаграждению в долгосрочной перспективе. Обучение с подкреплением используется в широком спектре сложных задач, в том числе - в видеоиграх, например, [Atari](https://www.deepmind.com/blog/agent57-outperforming-the-human-atari-benchmark), [StarCraft II](https://www.deepmind.com/blog/alphastar-mastering-the-real-time-strategy-game-starcraft-ii) и [Dota II](https://openai.com/five/).\n",
        "\n",
        "На семинаре изучим классическую среду - [CartPole](https://www.gymlibrary.ml/environments/classic_control/cart_pole/), где агент должен научиться балансировать шестом на тележке (см лекцию), используя несколько различных подходов RL. По пути вы познакомитесь с некоторыми из самых важных концепций и терминологии в RL.\n",
        "\n",
        "**Темы:**\n",
        "* Reinforcement Learning (RL, Обучение с подкреплением)\n",
        "* Random Policy Search (Случайный поиск политики)\n",
        "* Policy Gradient (Градиент политики)\n",
        "* Q-Learning\n",
        "\n",
        "\n",
        "**Что надо сделать для лучшего понимания:**\n",
        "\n",
        "* почитать про библиотеку [JAX](https://github.com/google/jax).\n",
        "* вспомнить нейроки.\n",
        "\n"
      ]
    },
    {
      "cell_type": "markdown",
      "metadata": {
        "id": "6EqhIg1odqg0"
      },
      "source": [
        "### Настраиваем среду"
      ]
    },
    {
      "cell_type": "code",
      "execution_count": null,
      "metadata": {
        "id": "4boGA9rYdt9l"
      },
      "outputs": [],
      "source": [
        "# @title Установка необходимых пакетов (надо просто запустить!) { display-mode: \"form\" }\n",
        "# @markdown Может занять несколько минут\n",
        "%%capture\n",
        "!pip install jaxlib\n",
        "!pip install jax\n",
        "!pip install git+https://github.com/deepmind/dm-haiku\n",
        "!pip install gym==0.25\n",
        "!pip install gym[box2d]\n",
        "!pip install optax\n",
        "!pip install matplotlib\n",
        "!pip install chex\n",
        "!pip install gym[classic_control]"
      ]
    },
    {
      "cell_type": "code",
      "execution_count": null,
      "metadata": {
        "id": "gwbqggmcRjMy"
      },
      "outputs": [],
      "source": [
        "# @title Импорт необходимых пакетов (просто запустите ячейку) { display-mode: \"form\" }\n",
        "%%capture\n",
        "import copy\n",
        "from shutil import rmtree # deleting directories\n",
        "import random\n",
        "import collections # useful data structures\n",
        "import numpy as np\n",
        "import gym # reinforcement learning environments\n",
        "from gym.wrappers import RecordVideo\n",
        "import jax\n",
        "import jax.numpy as jnp # jax numpy\n",
        "import haiku as hk # jax neural network library\n",
        "import optax # jax optimizer library\n",
        "import matplotlib.pyplot as plt # graph plotting library\n",
        "from IPython.display import HTML\n",
        "from base64 import b64encode\n",
        "import chex\n",
        "\n",
        "# Hide warnings\n",
        "import warnings\n",
        "warnings.filterwarnings('ignore')"
      ]
    },
    {
      "cell_type": "markdown",
      "metadata": {
        "id": "-ZUp8i37dFbU"
      },
      "source": [
        "## 1. Ключевые концепции обучения с подкреплением\n",
        "\n",
        "Обучение с подкреплением (RL) является подразделом машинного обучения (ML). В отличие от таких областей, как контролируемое обучение, где мы даем примеры ожидаемого поведения нашим моделям, RL фокусируется на *целеориентированном* обучении из взаимодействий методом проб и ошибок. Алгоритмы RL изучают, что делать (т. е. какие оптимальные действия предпринять) в среде, чтобы максимизировать некий сигнал вознаграждения. В таких условиях, как видеоигра, сигналом вознаграждения может быть счет игры, т. е. алгоритмы RL будут пытаться максимизировать счет в игре, выбирая лучшие действия.\n",
        "\n",
        "<center>\n",
        "<img src=\"https://pettingzoo.farama.org/_images/environments-demo.gif\" width=\"40%\" />\n",
        "</center>\n",
        "\n",
        "[*Image Source*](https://pettingzoo.farama.org/)\n",
        "\n",
        "Другими словами, в RL у нас есть **агент**, который воспринимает **наблюдение** $o_t$ текущего состояния $s_t$ **окружающей среды** и должен выбрать **действие** $a_t$ для выполнения.\n",
        "\n",
        "Затем окружающая среда переходит в новое состояние $s_{t+1}$ в ответ на действие агента, а также дает агенту скалярное вознаграждение $r_t$, чтобы указать, насколько хорошим или плохим было выбранное действие, учитывая состояние окружающей среды.\n",
        "\n",
        "Целью в RL является максимизация агентом суммы вознаграждения, которое он получает от окружающей среды с течением времени. Нижний индекс $t$ используется для указания номера временного шага, т. е. $s_0$ - это состояние окружающей среды на начальном временном шаге, а $a_{99}$ - это действие агента на $99-м$ временном шаге."
      ]
    },
    {
      "cell_type": "markdown",
      "metadata": {
        "id": "Ghgy69hFRjMz"
      },
      "source": [
        "### Среда - OpenAI Gym\n",
        "Как упоминалось выше, среда получает от агента действие $a_t$ и возвращает вознаграждение $r_t$ и наблюдение $o_t$.\n",
        "\n",
        "OpenAI разработал пакет для Python под названием **Gym**, который включает реализации популярных сред и простой интерфейс для взаимодействия агента RL. Чтобы использовать поддерживаемую [среду gym](https://www.gymlibrary.ml/), все, что вам нужно сделать, это передать имя среды в функцию  `gym.make(<environment_name>)`.\n",
        "\n",
        "В этом уроке мы будем использовать простую среду под названием **CartPole**. В CartPole задача агента — научиться балансировать на шесте как можно дольше, перемещая тележку *влево* или *вправо*.\n",
        "\n",
        "<img src=\"https://user-images.githubusercontent.com/10854026/32486103-f15f19de-c3a5-11e7-81de-0605df939497.gif\" width=\"50%\" />"
      ]
    },
    {
      "cell_type": "code",
      "execution_count": null,
      "metadata": {
        "id": "WfxzajMYRjMz"
      },
      "outputs": [],
      "source": [
        "# Create the environment\n",
        "env_name = \"CartPole-v0\"\n",
        "env = gym.make(env_name)"
      ]
    },
    {
      "cell_type": "markdown",
      "metadata": {
        "id": "y_BbftaJj3zu"
      },
      "source": [
        "### Состояние (States) и Наблюдение (Observations) - $s_t$ and $o_t$\n",
        "\n",
        "В RL агент воспринимает наблюдение за состоянием среды. В некоторых настройках наблюдение может включать всю информацию, лежащую в основе состояния среды. Такая среда называется **полностью наблюдаемой**. В других настройках агент может получать только частичную информацию о состоянии среды в своем наблюдении. Такая среда называется **частично наблюдаемой**.\n",
        "\n",
        "В оставшейся части этого руководства мы будем предполагать, что среда полностью наблюдаема, и поэтому будем использовать состояние $s_t$ и наблюдение $o_t$ взаимозаменяемо. В Gym мы получаем начальное наблюдение из среды, вызывая функцию `env.reset()`."
      ]
    },
    {
      "cell_type": "code",
      "execution_count": null,
      "metadata": {
        "id": "HdS8nqOgRjM0",
        "colab": {
          "base_uri": "https://localhost:8080/"
        },
        "outputId": "ce50d0df-328d-4e83-f9f4-f0437a60f485"
      },
      "outputs": [
        {
          "output_type": "stream",
          "name": "stdout",
          "text": [
            "Initial State:: [ 0.03331143 -0.04993541 -0.0401208   0.01642724]\n",
            "Environment Obs Space Shape: (4,)\n"
          ]
        }
      ],
      "source": [
        "# Reset the environment\n",
        "s_0 = env.reset()\n",
        "print(\"Initial State::\", s_0)\n",
        "\n",
        "# Get environment obs space\n",
        "obs_shape = env.observation_space.shape\n",
        "print(\"Environment Obs Space Shape:\", obs_shape)"
      ]
    },
    {
      "cell_type": "markdown",
      "metadata": {
        "id": "pUNX6mbotABo"
      },
      "source": [
        "В CartPole состояние окружающей среды представлено четырьмя числами: *угловое положение полюса, угловая скорость полюса, положение тележки, скорость тележки*."
      ]
    },
    {
      "cell_type": "markdown",
      "metadata": {
        "id": "hL1Nkgy7nUfn"
      },
      "source": [
        "### Действия (Actions) - $a_t$\n",
        "\n",
        "В RL действия обычно либо **дискретные**, либо **непрерывные**. Непрерывные действия задаются вектором действительных чисел. Дискретные действия задаются целочисленным значением. В средах, где мы можем подсчитать конечный набор действий, мы обычно используем дискретные действия.\n",
        "\n",
        "В CartPole есть только два действия: *влево* и *вправо*. Таким образом, действия могут быть представлены целыми числами $0$ и $1$. В gym мы можем легко получить список возможных действий следующим образом:"
      ]
    },
    {
      "cell_type": "code",
      "execution_count": null,
      "metadata": {
        "id": "uOLZqU_LpIXh",
        "colab": {
          "base_uri": "https://localhost:8080/"
        },
        "outputId": "1441e310-b69e-4fe4-f5bb-9c92c87dee23"
      },
      "outputs": [
        {
          "output_type": "stream",
          "name": "stdout",
          "text": [
            "Environment action space: Discrete(2)\n",
            "Number of actions: 2\n"
          ]
        }
      ],
      "source": [
        "# Get action space - e.g. discrete or continuous\n",
        "print(f\"Environment action space: {env.action_space}\")\n",
        "\n",
        "# Get num actions\n",
        "num_actions = env.action_space.n\n",
        "print(f\"Number of actions: {num_actions}\")"
      ]
    },
    {
      "cell_type": "markdown",
      "metadata": {
        "id": "tRsflxbDpoPm"
      },
      "source": [
        "### Политика агента (The Agent's Policy) - $\\pi$\n",
        "\n",
        "В RL агент выбирает действия на основе полученных наблюдений. Мы можем представить процесс выбора действия агента как функцию, которая принимает наблюдение в качестве входных данных и возвращает действие в качестве выходных данных. В RL мы обычно называем эту функцию **политикой** агента и обозначаем ее $\\pi(s_t)=a_t$. В RL мы обычно параметризуем нашу политику каким-либо образом, а затем пытаемся узнать оптимальные параметры. Параметризованная политика обычно обозначается $\\pi_\\theta$, где $\\theta$ — это набор параметров.\n",
        "\n",
        "**Упражнение 1:** В качестве упражнения давайте реализуем простую политику, которая принимает набор параметров и наблюдение в качестве входных данных и возвращает действие. Предположим, что наблюдение — это вектор из четырех чисел, как наблюдение CartPole, и что действие должно быть либо $0$, либо $1$. Предположим также, что параметры — это вектор из четырех действительных чисел. Тогда действие должно быть вычислено следующим образом.\n",
        "\n",
        "\n",
        "1. Вычислите [скалярное произведение векторов](https://www.mathsisfun.com/algebra/vectors-dot-product.html) между наблюдением и параметрами.\n",
        "2. Если результат больше нуля, верните действие $1$.\n",
        "3. В противном случае верните действие $0$.\n",
        "\n",
        "В этом упражнении мы постараемся использовать JAX как можно чаще. Поэтому постарайтесь использовать методы JAX для этой задачи. Ниже приведены некоторые полезные методы, которые вы можете использовать. Вам нужно будет завершить код в блоке ниже, заменив `...` правильным кодом.\n",
        "\n",
        "\n",
        "**Полезные методы:**\n",
        "* Вычислите скалярное произведение векторов с помощью `jax.numpy.dot` ([docs](https://jax.readthedocs.io/en/latest/_autosummary/jax.numpy.dot.html)).\n",
        "\n",
        "* Когда вы пытаетесь условно присвоить значение $0$ или $1$ действию на основе результата скалярного произведения, вам следует использовать `jax.lax.select` ([docs](https://jax.readthedocs.io/en/latest/_autosummary/jax.lax.select.html#jax.lax.select)).\n",
        "\n",
        "Метод `jax.lax.select` принимает три аргумента в качестве входных данных. Первый аргумент — это оператор, который будет оцениваться как `True` или `False`.\n",
        "\n",
        "Если оператор равен `True`, то `jax.lax.select` вернет свой второй аргумент.\n",
        "\n",
        "Если оператор имеет значение `False`, `jax.lax.select` вернет свой третий аргумент.\n",
        "\n"
      ]
    },
    {
      "cell_type": "code",
      "execution_count": null,
      "metadata": {
        "id": "KSGCd7XB1z8k"
      },
      "outputs": [],
      "source": [
        "def linear_policy(params, obs):\n",
        "  \"\"\"A simple linear policy\n",
        "\n",
        "  Args:\n",
        "    params: a vector of four real-numbers that give the parameters of the policy\n",
        "    obs: a vector of four real-numbers that give the agent's observation\n",
        "\n",
        "  Returns:\n",
        "    a discrete action given by a 0 or 1\n",
        "  \"\"\"\n",
        "  # YOUR CODE\n",
        "  dot_product_result = jax.lax.dot(params, obs)\n",
        "\n",
        "  action = jax.lax.select(\n",
        "      dot_product_result > 0, # boolean statement goes here\n",
        "      1, # result when the statement is True goes here\n",
        "      0, # result when the statement is False goes here\n",
        "  )\n",
        "  # END YOUR CODE\n",
        "  return action"
      ]
    },
    {
      "cell_type": "code",
      "execution_count": null,
      "metadata": {
        "id": "9EnnBvceb1f3",
        "colab": {
          "base_uri": "https://localhost:8080/"
        },
        "outputId": "828aa325-1709-4f34-969e-44c8631803f7"
      },
      "outputs": [
        {
          "output_type": "stream",
          "name": "stdout",
          "text": [
            "Your function is correct!\n"
          ]
        }
      ],
      "source": [
        "# @title Проверка упр 1  { display-mode: \"form\" }\n",
        "\n",
        "def check_linear_policy(linear_policy):\n",
        "  fixed_obs = jnp.array([1,1,2,4])\n",
        "\n",
        "  # check case1 - negative dot product.\n",
        "  # weights\n",
        "  params1 = jnp.array([1,1,1,1])\n",
        "  params2 = jnp.array([-1,-1,-1,-1])\n",
        "\n",
        "  hint1 = f\"Неправильный ответ, ваша линейная политика неверна. Действие при \\\n",
        "obs={fixed_obs} и params={params1} должно быть 1\"\n",
        "\n",
        "  hint2 = f\"Неправильный ответ, ваша линейная политика неверна. Действие при \\\n",
        "obs={fixed_obs} и params={params2} должно быть 0\"\n",
        "\n",
        "  hint = None\n",
        "  if linear_policy(params1, fixed_obs) != 1:\n",
        "    hint = hint1\n",
        "  elif linear_policy(params2, fixed_obs) != 0:\n",
        "    hint = hint2\n",
        "\n",
        "  if hint is not None:\n",
        "    print(hint)\n",
        "  else:\n",
        "    print(\"Your function is correct!\")\n",
        "\n",
        "try:\n",
        "  check_linear_policy(linear_policy)\n",
        "except Exception as e:\n",
        "    print(\"An Error Occured: {}\".format(e))"
      ]
    },
    {
      "cell_type": "markdown",
      "metadata": {
        "id": "PkuvT-jf6Ieh"
      },
      "source": [
        "### Функция перехода среды - $P$\n",
        "\n",
        "Теперь, когда у нас есть политика, мы можем передавать действия от агента среде. Затем среда перейдет в новое состояние в ответ на действие агента.\n",
        "\n",
        "В RL мы моделируем этот процесс с помощью **функции перехода состояния** $P$, которая принимает текущее состояние $s_t$ и действие $a_t$ в качестве входных данных и возвращает следующее состояние $s_{t+1}$ в качестве выходных данных:\n",
        "\n",
        "<center>\n",
        "$s_{t+1}=P(s_t, a_t)$\n",
        "</center>\n",
        "\n",
        "В gym мы можем передавать действия среде, вызывая функцию `env.step(<action>)`. Затем функция вернет четыре значения:\n",
        "- **следующее наблюдение**\n",
        "- **награду** за выполненное действие\n",
        "- логический флаг, указывающий, **завершена** игра\n",
        "- некоторую **дополнительную** информацию."
      ]
    },
    {
      "cell_type": "code",
      "execution_count": null,
      "metadata": {
        "id": "hh0j9-Tk7olb",
        "colab": {
          "base_uri": "https://localhost:8080/"
        },
        "outputId": "0bca32d1-d5b0-426c-f485-0b2117243759"
      },
      "outputs": [
        {
          "output_type": "stream",
          "name": "stdout",
          "text": [
            "Observation: [-0.03997008  0.02053544  0.02658533 -0.03928491]\n",
            "Action: 0\n",
            "Next observation: [-0.03955937 -0.17495745  0.02579964  0.26166597]\n",
            "Reward: 1.0\n",
            "Game is done: False\n"
          ]
        }
      ],
      "source": [
        "# Get the initial obs by resetting the env\n",
        "initial_obs = env.reset()\n",
        "\n",
        "# Randomly sample actions from env\n",
        "action = env.action_space.sample()\n",
        "\n",
        "# Step the environment\n",
        "next_obs, reward, done, info = env.step(action)\n",
        "\n",
        "print(\"Observation:\", initial_obs)\n",
        "print(\"Action:\", action)\n",
        "print(\"Next observation:\", next_obs)\n",
        "print(\"Reward:\", reward)\n",
        "print(\"Game is done:\", done)"
      ]
    },
    {
      "cell_type": "markdown",
      "metadata": {
        "id": "bX9iZtu48UYn"
      },
      "source": [
        "### Возврат эпизода - $R_t$\n",
        "\n",
        "В RL мы обычно разбиваем взаимодействие агента с окружающей средой на **эпизоды**. Сумма всех вознаграждений, собранных во время эпизода, - это то, что мы называем **возвратом** эпизода - $R_t$:\n",
        "\n",
        "<center>\n",
        "$R_t=\\sum_{t=0}^Tr_t$,\n",
        "</center>\n",
        "\n",
        "где $r_t$ - это вознаграждение в момент времени $t$, а $T$ - это последний временной шаг. Цель в RL - выбрать действия, которые максимизируют этот ожидаемый будущий возврат $R_t$."
      ]
    },
    {
      "cell_type": "markdown",
      "metadata": {
        "id": "y6KZA1Nq9p47"
      },
      "source": [
        "### Цикл агент-среда\n",
        "Теперь, когда мы знаем, что такое политика, и знаем, как пошагово проходить среду, давайте закроем цикл агент-среда.\n",
        "\n",
        "**Упражнение 2:** Напишите функцию, которая запускает один эпизод CartPole, последовательно выбирая действия и пошагово проходя среду. Вам следует использовать линейную политику, которую мы определили ранее, для выбора действий. Функция должна отслеживать полученное вознаграждение и выводить возврат в конце эпизода.\n",
        "\n",
        "В CartPole агент получает вознаграждение `1` за каждый временной шаг, когда шест все еще стоит вертикально. Если шест падает, игра заканчивается, и агент больше не получает вознаграждения. Игра также заканчивается после `200` временных шагов, поэтому максимальное вознаграждение, которое может получить агент, составляет `200`."
      ]
    },
    {
      "cell_type": "code",
      "execution_count": null,
      "metadata": {
        "id": "Buy0X7mi-gHP"
      },
      "outputs": [],
      "source": [
        "def run_episode(env):\n",
        "  episode_return = 0 # counter to keep track of rewards\n",
        "  done = False # initially set to False\n",
        "  params = jnp.array([1,-2,2,-1]) # fixed policy parameters\n",
        "\n",
        "  ## YOUR CODE\n",
        "\n",
        "  obs = env.reset() # TODO: get the initial obs from the env\n",
        "\n",
        "  while not done: # loop until episode is done\n",
        "\n",
        "    action = linear_policy(params=params, obs=obs) # TODO: compute action using linear policy\n",
        "    action = np.array(action) # We need to the convert the action from the policy to a np.array\n",
        "\n",
        "    obs, reward, done, info = env.step(action) # TODO: step the environment\n",
        "\n",
        "    episode_return += reward  # TODO: add reward to episode return\n",
        "\n",
        "  return episode_return"
      ]
    },
    {
      "cell_type": "code",
      "execution_count": null,
      "metadata": {
        "id": "bA2Orj9PVbKO",
        "colab": {
          "base_uri": "https://localhost:8080/"
        },
        "outputId": "8f320533-7f47-4619-df62-2d8cf31ffd67"
      },
      "outputs": [
        {
          "output_type": "stream",
          "name": "stdout",
          "text": [
            "Looks correct!\n"
          ]
        }
      ],
      "source": [
        "# @title Проверка упр 2 (run me) { display-mode: \"form\" }\n",
        "\n",
        "try:\n",
        "  env.seed(42)\n",
        "  if run_episode(env) == 31:\n",
        "    print(\"Looks correct!\")\n",
        "  else:\n",
        "    print(\"Looks like your implementation might be wrong.\")\n",
        "except Exception as e:\n",
        "    print(\"An Error Occured: {}\".format(e))"
      ]
    },
    {
      "cell_type": "markdown",
      "metadata": {
        "id": "fUGdzHxJnZGl"
      },
      "source": [
        "В CartPole среда считается решенной, когда агент может надежно достичь возврата эпизода 500. Как вы можете видеть, наша текущая политика далека от оптимальной.\n",
        "\n",
        "Один из способов найти оптимальную политику — это случайным образом пробовать разные политики, пока не найдем оптимальную. Эта стратегия называется случайным поиском политики и может быть на удивление эффективной.\n",
        "\n",
        "Прежде чем мы реализуем случайный поиск политики, давайте быстро рассмотрим общий цикл обучения RL, который мы будем использовать для реализации алгоритмов в оставшейся части этого руководства.\n",
        "\n",
        "### Цикл обучения RL общего назначения\n",
        "Мы реализовали для вас цикл обучения RL общего назначения. Цикл обучения принимает несколько аргументов в качестве входных данных, но три наиболее важных для понимания — это `agent_select_action_func`, `agent_learn_func` и `agent_memory`.\n",
        "\n",
        "* `agent_select_action_func` — это функция, которую мы определяем и можем передать в цикл обучения. Функция принимает наблюдение и набор `agent_params` в качестве входных данных и должна возвращать действие.\n",
        "* `agent_learn_func` — это еще один метод, который мы определяем и передаем в цикл обучения. Он должен принимать параметры агента и некоторые «воспоминания» в качестве входных данных, а затем обновлять и возвращать агентам новые параметры.\n",
        "* `agent_memory` — это модуль общего назначения, который мы определяем, который может хранить некоторую релевантную информацию об опыте агента в среде, которую можно использовать в `agent_learn_func`.\n",
        "\n",
        "Ниже приведена функция цикла обучения, которую мы реализовали для вас. Вы можете просмотреть код и попытаться понять его, но это не обязательно. Таким образом, мы скрыли код по умолчанию, просто убедитесь, что вы запустили ячейку кода, прежде чем двигаться дальше, потому что цикл обучения далее в коде."
      ]
    },
    {
      "cell_type": "code",
      "execution_count": null,
      "metadata": {
        "id": "ZWBwz3zMRjM0"
      },
      "outputs": [],
      "source": [
        "#@title Training loop (run me) { display-mode: \"form\" }\n",
        "\n",
        "# NamedTuple to store transitions\n",
        "Transition = collections.namedtuple(\"Transition\", [\"obs\", \"action\", \"reward\", \"next_obs\", \"done\"])\n",
        "\n",
        "# Training Loop\n",
        "def run_training_loop(env_name, agent_params, agent_select_action_func,\n",
        "    agent_actor_state=None, agent_learn_func=None, agent_learner_state=None,\n",
        "    agent_memory=None, num_episodes=1000, evaluator_period=100,\n",
        "    evaluation_episodes=8, learn_steps_per_episode=1,\n",
        "    train_every_timestep=False, video_subdir=\"\",):\n",
        "    \"\"\"\n",
        "    This function runs several episodes in an environment and periodically does\n",
        "    some agent learning and evaluation.\n",
        "\n",
        "    Args:\n",
        "        env: a gym environment.\n",
        "        agent_params: an object to store parameters that the agent uses.\n",
        "        agent_select_func: a function that does action selection for the agent.\n",
        "        agent_actor_state (optional): an object that stores the internal state\n",
        "            of the agents action selection function.\n",
        "        agent_learn_func (optional): a function that does some learning for the\n",
        "            agent by updating the agent parameters.\n",
        "        agent_learn_state (optional): an object that stores the internal state\n",
        "            of the agent learn function.\n",
        "        agent_memory (optional): an object for storing an retrieving historical\n",
        "            experience.\n",
        "        num_episodes: how many episodes to run.\n",
        "        evaluator_period: how often to run evaluation.\n",
        "        evaluation_episodes: how many evaluation episodes to run.\n",
        "        train_every_timestep: whether to train every timestep rather than at the end\n",
        "            of the episode.\n",
        "        video_subdir: subdirectory to store epsiode recordings.\n",
        "\n",
        "    Returns:\n",
        "        episode_returns: list of all the episode returns.\n",
        "        evaluator_episode_returns: list of all the evaluator episode returns.\n",
        "    \"\"\"\n",
        "\n",
        "    # Setup Cartpole environment and recorder\n",
        "    env = gym.make(env_name, render_mode=\"rgb_array\") # training environment\n",
        "    eval_env = gym.make(env_name, render_mode=\"rgb_array\") # evaluation environment\n",
        "\n",
        "    # Video dir\n",
        "    video_dir = \"./video\"+\"/\"+video_subdir\n",
        "\n",
        "    # Clear video dir\n",
        "    try:\n",
        "      rmtree(video_dir)\n",
        "    except:\n",
        "      pass\n",
        "\n",
        "    # Wrap in recorder\n",
        "    env = RecordVideo(env, video_dir+\"/train\", episode_trigger=lambda x: (x % evaluator_period) == 0)\n",
        "    eval_env = RecordVideo(eval_env, video_dir+\"/eval\", episode_trigger=lambda x: (x % evaluation_episodes) == 0)\n",
        "\n",
        "    # JAX random number generator\n",
        "    rng = hk.PRNGSequence(jax.random.PRNGKey(0))\n",
        "    env.seed(0) # seed environment for reproducability\n",
        "    random.seed(0)\n",
        "\n",
        "    episode_returns = [] # List to store history of episode returns.\n",
        "    evaluator_episode_returns = [] # List to store history of evaluator returns.\n",
        "    timesteps = 0\n",
        "    for episode in range(num_episodes):\n",
        "\n",
        "        # Reset environment.\n",
        "        obs = env.reset()\n",
        "        episode_return = 0\n",
        "        done = False\n",
        "\n",
        "        while not done:\n",
        "\n",
        "            # Agent select action.\n",
        "            action, agent_actor_state = agent_select_action_func(\n",
        "                                            next(rng),\n",
        "                                            agent_params,\n",
        "                                            agent_actor_state,\n",
        "                                            np.array(obs)\n",
        "                                        )\n",
        "\n",
        "            # Step environment.\n",
        "            next_obs, reward, done, _ = env.step(int(action))\n",
        "\n",
        "            # Pack into transition.\n",
        "            transition = Transition(obs, action, reward, next_obs, done)\n",
        "\n",
        "            # Add transition to memory.\n",
        "            if agent_memory: # check if agent has memory\n",
        "              agent_memory.push(transition)\n",
        "\n",
        "            # Add reward to episode return.\n",
        "            episode_return += reward\n",
        "\n",
        "            # Set obs to next obs before next environment step. CRITICAL!!!\n",
        "            obs = next_obs\n",
        "\n",
        "            # Increment timestep counter\n",
        "            timesteps += 1\n",
        "\n",
        "            # Maybe learn every timestep\n",
        "            if train_every_timestep and (timesteps % 4 == 0) and agent_memory and agent_memory.is_ready(): # Make sure memory is ready\n",
        "                # First sample memory and then pass the result to the learn function\n",
        "                memory = agent_memory.sample()\n",
        "                agent_params, agent_learner_state = agent_learn_func(\n",
        "                                                        next(rng),\n",
        "                                                        agent_params,\n",
        "                                                        agent_learner_state,\n",
        "                                                        memory\n",
        "                                                    )\n",
        "\n",
        "        episode_returns.append(episode_return)\n",
        "\n",
        "        # At the end of every episode we do a learn step.\n",
        "        if agent_memory and agent_memory.is_ready(): # Make sure memory is ready\n",
        "\n",
        "            for _ in range(learn_steps_per_episode):\n",
        "                # First sample memory and then pass the result to the learn function\n",
        "                memory = agent_memory.sample()\n",
        "                agent_params, agent_learner_state = agent_learn_func(\n",
        "                                                        next(rng),\n",
        "                                                        agent_params,\n",
        "                                                        agent_learner_state,\n",
        "                                                        memory\n",
        "                                                    )\n",
        "\n",
        "        if (episode % evaluator_period) == 0: # Do evaluation\n",
        "\n",
        "            evaluator_episode_return = 0\n",
        "            for eval_episode in range(evaluation_episodes):\n",
        "                obs = eval_env.reset()\n",
        "                done = False\n",
        "                while not done:\n",
        "                    action, _ = agent_select_action_func(\n",
        "                                    next(rng),\n",
        "                                    agent_params,\n",
        "                                    agent_actor_state,\n",
        "                                    np.array(obs),\n",
        "                                    evaluation=True\n",
        "                                )\n",
        "\n",
        "                    obs, reward, done, _ = eval_env.step(int(action))\n",
        "\n",
        "                    evaluator_episode_return += reward\n",
        "\n",
        "            evaluator_episode_return /= evaluation_episodes\n",
        "\n",
        "            evaluator_episode_returns.append(evaluator_episode_return)\n",
        "\n",
        "            logs = [\n",
        "                    f\"Episode: {episode}\",\n",
        "                    f\"Episode Return: {episode_return}\",\n",
        "                    f\"Average Episode Return: {np.mean(episode_returns[-20:])}\",\n",
        "                    f\"Evaluator Episode Return: {evaluator_episode_return}\"\n",
        "            ]\n",
        "\n",
        "            print(*logs, sep=\"\\t\") # Print the logs\n",
        "\n",
        "    env.close()\n",
        "    eval_env.close()\n",
        "\n",
        "    return episode_returns, evaluator_episode_returns"
      ]
    },
    {
      "cell_type": "markdown",
      "metadata": {
        "id": "CTPlIq4oDBPY"
      },
      "source": [
        "##2. Случайный поиск политики (RPS)\n",
        "В разделе 1 мы использовали фиксированный набор параметров для нашей политики. То есть мы не изучали параметры $\\pi$ $\\theta$, мы просто сохранили их фиксированными ( `params = [1,-2,2,-1]`).\n",
        "\n",
        "Теперь мы реализуем случайный поиск политики (RPS), который представляет собой алгоритм, который случайным образом пробует различные параметры политики и отслеживает лучшие параметры, найденные на данный момент. Мы скажем, что параметры политики $\\theta_A$ лучше параметров $\\theta_B$, если средний возврат эпизода, достигнутый за последние 20 эпизодов политикой с параметрами $\\theta_A$, больше, чем у политики с параметрами $\\theta_B$.\n",
        "\n",
        "Чтобы отслеживать «текущие» параметры, а также «лучшие» параметры, мы будем использовать [NamedTuple](https://www.geeksforgeeks.org/namedtuple-in-python/)."
      ]
    },
    {
      "cell_type": "code",
      "execution_count": null,
      "metadata": {
        "id": "1DcaC-PQRjM1",
        "colab": {
          "base_uri": "https://localhost:8080/"
        },
        "outputId": "2689dc65-6e05-4dea-dcff-2dd1553b57c0"
      },
      "outputs": [
        {
          "output_type": "stream",
          "name": "stdout",
          "text": [
            "Best params: [0. 0. 0. 0.]\n",
            "Current params: [-1. -1. -1. -1.]\n"
          ]
        }
      ],
      "source": [
        "# Parameter container for Random Policy Search\n",
        "RandomPolicySearchParams = collections.namedtuple(\"RandomPolicySearchParams\", [\"current\", \"best\"])\n",
        "\n",
        "# TEST: store two different sets of parameters\n",
        "current_params = np.ones(obs_shape) * -1\n",
        "best_params = np.zeros(obs_shape)\n",
        "rps_params = RandomPolicySearchParams(current_params, best_params)\n",
        "\n",
        "# How to access the best or current params.\n",
        "print(f\"Best params: {rps_params.best}\")\n",
        "print(f\"Current params: {rps_params.current}\")"
      ]
    },
    {
      "cell_type": "markdown",
      "metadata": {
        "id": "v91pDDzGex9a"
      },
      "source": [
        "Далее мы реализуем следующее:\n",
        "- **Функция выбора действия RPS** - определяет, как мы выбираем действия с учетом набора параметров.\n",
        "- **Модуль памяти RPS** - определяет, какой опыт хранить из взаимодействий со средой.\n",
        "- **Функция обучения RPS** - определяет, как мы обновляем и улучшаем параметры нашей политики."
      ]
    },
    {
      "cell_type": "markdown",
      "metadata": {
        "id": "0tExceGeGNYH"
      },
      "source": [
        "### Функция выбора действия RPS\n",
        "Давайте реализуем функцию с именем `random_policy_search_choose_action`, которую мы можем передать в цикл обучения. Функция должна принимать несколько аргументов, чтобы она могла хорошо взаимодействовать с нашим обобщенным циклом обучения, но вам нужно будет использовать только три из них - `params`, `obs` и `evaluation`.\n",
        "\n",
        "- `params` - это экземпляр `RandomPolicySearchParams` с \"current\" и \"best\".\n",
        "- `obs` - это последнее наблюдение из среды.\n",
        "- `evaluation` - это логическое значение, которое указывает, следует ли нам использовать параметры \"current\" или \"best\". Когда `evaluation==True`, мы должны использовать параметры \"best\", в противном случае мы должны использовать параметры \"current\".\n",
        "\n",
        "**Упражнение 3:** Реализуйте функцию `random_policy_search_choose_action`, как описано выше. Вам следует использовать метод `linear_policy`, который мы определили ранее. Вам также понадобится `jax.lax.select()` для условного возврата \"лучшего\" действия или \"текущего\" действия."
      ]
    },
    {
      "cell_type": "code",
      "execution_count": null,
      "metadata": {
        "id": "1kmwT35JRjM1"
      },
      "outputs": [],
      "source": [
        "def random_policy_search_choose_action(\n",
        "    key,\n",
        "    params,\n",
        "    actor_state,\n",
        "    obs,\n",
        "    evaluation=False\n",
        "):\n",
        "  \"\"\"Random policy search select action method.\n",
        "\n",
        "  Args:\n",
        "    key: a random number (seed). Not used in this function.\n",
        "    params: the agent's parameters. In this case an instance of `RandomPolicySearchParams`\n",
        "    actor_state: some extra information about the actor. Not used in this function.\n",
        "    obs: the latest observation.\n",
        "    evaluation: a boolean indicating whether to use the best \"parameters\" or the \"current\" ones.\n",
        "\n",
        "  Returns:\n",
        "    The chosen action and the updated actor_state. In this function the actor_state is not updated.\n",
        "  \"\"\"\n",
        "\n",
        "  # YOUR CODE\n",
        "\n",
        "  best_action = linear_policy(params=params.best, obs=obs)\n",
        "\n",
        "  current_action = linear_policy(params=params.current, obs=obs)\n",
        "\n",
        "  action = jax.lax.select(\n",
        "      evaluation ,\n",
        "      best_action ,\n",
        "      current_action\n",
        "  )\n",
        "\n",
        "  # END YOUR CODE\n",
        "\n",
        "  return action, actor_state"
      ]
    },
    {
      "cell_type": "code",
      "execution_count": null,
      "metadata": {
        "id": "YE4xoAgyI3kG",
        "colab": {
          "base_uri": "https://localhost:8080/"
        },
        "outputId": "7335e588-3e7a-467f-a14b-9bc42d39b95d"
      },
      "outputs": [
        {
          "output_type": "stream",
          "name": "stdout",
          "text": [
            "Your function looks correct.\n"
          ]
        }
      ],
      "source": [
        "# @title Проверка упр 3 (run me) {display-mode: \"form\"}\n",
        "\n",
        "def check_random_policy_search_choose_action(choose_action):\n",
        "  key = None # not used\n",
        "  actor_state = None # not used\n",
        "\n",
        "  # obs\n",
        "  obs = np.ones(obs_shape)\n",
        "\n",
        "  evaluation=False\n",
        "  current_params = np.ones(obs_shape) * -1\n",
        "  best_params = np.ones(obs_shape)\n",
        "  rps_params = RandomPolicySearchParams(current_params, best_params)\n",
        "  action, actor_state = choose_action(key,rps_params,actor_state,obs,evaluation)\n",
        "  if action != 0:\n",
        "    return False\n",
        "\n",
        "  evaluation=True\n",
        "  current_params = np.ones(obs_shape) * -1\n",
        "  best_params = np.ones(obs_shape)\n",
        "  rps_params = RandomPolicySearchParams(current_params, best_params)\n",
        "  action, actor_state = choose_action(key,rps_params,actor_state,obs,evaluation)\n",
        "  if action != 1:\n",
        "    return False\n",
        "\n",
        "  return True\n",
        "\n",
        "try:\n",
        "  if check_random_policy_search_choose_action(random_policy_search_choose_action):\n",
        "    print(\"Your function looks correct.\")\n",
        "  else:\n",
        "    print(\"Your function looks incorrect.\")\n",
        "except Exception as e:\n",
        "    print(\"An Error Occured: {}\".format(e))"
      ]
    },
    {
      "cell_type": "markdown",
      "metadata": {
        "id": "6zu51ep7Sh0M"
      },
      "source": [
        "### Память агента RPS\n",
        "\n",
        "Для алгоритма поиска случайной политики нам нужно будет отслеживать средний возврат эпизода для последних 50 эпизодов. Помните, что мы сказали, что «текущие» параметры будут считаться «лучшими» параметрами, если средний возврат эпизода при использовании этих параметров больше предыдущего лучшего среднего возврата эпизода.\n",
        "\n",
        "Мы будем использовать интерфейс памяти общего назначения, который довольно прост. Модуль памяти должен иметь три метода. Первый — это функция `memory.push(<transition>)`, которая добавляет некоторую информацию о последнем переходе среды в память. Второй — это функция `memory.is_ready()`, которая проверяет, готова ли память к обучению. Наконец, функция `memory.sample()` должна возвращать последний набор воспоминаний, которые можно передать в `agent_learn_func`.\n",
        "\n",
        "#### Память среднего возврата эпизода\n",
        "Мы создали для вас простой модуль памяти агента. Он хранит `epsisode_returns` последних 20 эпизодов. Прочитайте нашу реализацию ниже и посмотрите, сможете ли вы ее понять. Метод `memory.sample()` возвращает средний возврат эпизода за последние 20 эпизодов."
      ]
    },
    {
      "cell_type": "code",
      "execution_count": null,
      "metadata": {
        "id": "YVkTBIK5RjM1"
      },
      "outputs": [],
      "source": [
        "class AverageEpisodeReturnBuffer:\n",
        "\n",
        "    def __init__(self, num_episodes_to_store=50):\n",
        "        \"\"\"\n",
        "        This class implements an agent memory that stores the average episode\n",
        "        return over the last 50 episodes.\n",
        "        \"\"\"\n",
        "        self.num_episodes_to_store = num_episodes_to_store\n",
        "        self.episode_return_buffer = []\n",
        "        self.current_episode_return = 0\n",
        "\n",
        "    def push(self, transition):\n",
        "        self.current_episode_return += transition.reward\n",
        "\n",
        "        if transition.done: # If the episode is done\n",
        "            # Add episode return to buffer\n",
        "            self.episode_return_buffer.append(self.current_episode_return)\n",
        "\n",
        "            # Reset episode return\n",
        "            self.current_episode_return = 0\n",
        "\n",
        "\n",
        "    def is_ready(self):\n",
        "        return len(self.episode_return_buffer) == self.num_episodes_to_store\n",
        "\n",
        "    def sample(self):\n",
        "        average_episode_return = np.mean(self.episode_return_buffer)\n",
        "\n",
        "        # Clear episode return buffer\n",
        "        self.episode_return_buffer = []\n",
        "\n",
        "        return average_episode_return"
      ]
    },
    {
      "cell_type": "markdown",
      "metadata": {
        "id": "0oXBsSa2KjWE"
      },
      "source": [
        "### Функция обучения RPS\n",
        "Наконец, нам нужно реализовать функцию `random_policy_search_learn` для нашего алгоритма поиска случайной политики. Функция обучения довольно проста. Все, что нам нужно сделать, это проверить, лучше ли текущие параметры, чем лучшие параметры. Если они лучше, то установите лучшие параметры в качестве текущих параметров и случайным образом сгенерируйте новый набор текущих параметров.\n",
        "\n",
        "**Упражнение 4:** Напишите функцию для случайной генерации новых весов с использованием JAX. Веса должны быть выбраны из интервала `[-2,2]`.\n",
        "\n",
        "**Полезные функции:**\n",
        "*   `jax.random.uniform` ([docs](https://jax.readthedocs.io/en/latest/_autosummary/jax.random.uniform.html#jax.random.uniform))\n",
        "\n"
      ]
    },
    {
      "cell_type": "code",
      "execution_count": null,
      "metadata": {
        "id": "8V2yFM2XMjGW"
      },
      "outputs": [],
      "source": [
        "def get_new_random_weights(random_key, old_weights, minval=-2.0, maxval=2.0):\n",
        "    new_weights_shape = old_weights.shape # you will need to use these values\n",
        "    new_weights_dtype = old_weights.dtype # you will need to use these values\n",
        "\n",
        "    # YOUR CODE\n",
        "\n",
        "    new_params = jax.random.uniform(dtype=new_weights_dtype, shape=new_weights_shape, minval=minval, maxval=maxval, key=random_key)\n",
        "\n",
        "    # END YOUR CODE\n",
        "\n",
        "    return new_params"
      ]
    },
    {
      "cell_type": "code",
      "execution_count": null,
      "metadata": {
        "id": "T8ifHTKGQlAd",
        "colab": {
          "base_uri": "https://localhost:8080/"
        },
        "outputId": "b9dc599e-7506-4269-a873-afa45b2766c5"
      },
      "outputs": [
        {
          "output_type": "stream",
          "name": "stdout",
          "text": [
            "Function is correct!\n"
          ]
        }
      ],
      "source": [
        "# @title Проверка упр 4 (run me) {display-mode: \"form\"}\n",
        "\n",
        "def check_get_new_random_weights(get_new_random_weights):\n",
        "  old_weights = np.ones(obs_shape, \"float32\")\n",
        "  random_key = jax.random.PRNGKey(42)\n",
        "\n",
        "  # Case 1\n",
        "  new_weights = get_new_random_weights(random_key, old_weights, minval=-2.0, maxval=2.0)\n",
        "\n",
        "  if jnp.array_equal(new_weights, jnp.array([ 0.29657745,1.4265499, -1.7621555, -1.7505779 ])):\n",
        "    print(\"Function is correct!\")\n",
        "  else:\n",
        "    print(\"Something is wrong.\")\n",
        "\n",
        "try:\n",
        "  check_get_new_random_weights(get_new_random_weights)\n",
        "except Exception as e:\n",
        "    print(\"An Error Occured: {}\".format(e))"
      ]
    },
    {
      "cell_type": "markdown",
      "metadata": {
        "id": "2Djxc9j-LzkM"
      },
      "source": [
        "Наша функция обучения получает память в форме среднего возврата эпизода из `AverageEpisodeReturnMemory`, которую мы реализовали ранее. Мы можем использовать это для сравнения текущих параметров с лучшими параметрами. Но нам также нужно будет отслеживать лучший средний возврат эпизода для функции обучения. Для этого мы можем использовать аргумент `learn_state`, который передается в `agent_learn_func` в нашем цикле обучения. Как и в случае с `RandomPolicySearchParams`, мы будем использовать NamedTuple для хранения `best_average_episode_return` в `learn_state`."
      ]
    },
    {
      "cell_type": "code",
      "execution_count": null,
      "metadata": {
        "id": "4cSH4uYmRjM2",
        "colab": {
          "base_uri": "https://localhost:8080/"
        },
        "outputId": "d09d7b7c-7f2b-4f8c-9996-ad9a1996a6c6"
      },
      "outputs": [
        {
          "output_type": "stream",
          "name": "stdout",
          "text": [
            "Initial best average episode return: -inf\n"
          ]
        }
      ],
      "source": [
        "# A NamedTuple to store the best average episode return so far\n",
        "RandomPolicyLearnState = collections.namedtuple(\n",
        "  \"RandomPolicyLearnState\",\n",
        "  [\"best_average_episode_return\"]\n",
        ")\n",
        "\n",
        "# Test\n",
        "initial_learn_state = RandomPolicyLearnState(best_average_episode_return=-float(\"inf\"))\n",
        "print(\"Initial best average episode return:\", initial_learn_state.best_average_episode_return)"
      ]
    },
    {
      "cell_type": "markdown",
      "metadata": {
        "id": "PxZXdP8bOu6b"
      },
      "source": [
        "Теперь у нас есть все необходимое для реализации функции `random_policy_search_learn`.\n",
        "\n",
        "**Упражнение 5:** Реализуйте функцию `random_policy_search_learn`. Функция должна проверять, лучше ли «текущие» параметры, чем «лучшие» параметры, сравнивая `current_average_episode_return` с `best_average_episode_return`. Функция также должна обновлять `learn_state`."
      ]
    },
    {
      "cell_type": "code",
      "execution_count": null,
      "metadata": {
        "id": "Te_Q3qzmZcN_"
      },
      "outputs": [],
      "source": [
        "def random_policy_search_learn(key, params, learn_state, memory):\n",
        "    best_params = params.best\n",
        "    current_params = params.current\n",
        "\n",
        "    current_average_episode_return = memory # the memory contains the average episode return\n",
        "    best_average_episode_return = learn_state.best_average_episode_return\n",
        "\n",
        "\n",
        "    # YOUR CODE\n",
        "\n",
        "    best_params = jax.lax.select(\n",
        "        best_params > current_params,\n",
        "        best_params ,\n",
        "        current_params\n",
        "    )\n",
        "\n",
        "    best_average_episode_return = jax.lax.select(\n",
        "        best_average_episode_return > current_average_episode_return,\n",
        "        best_average_episode_return ,\n",
        "        current_average_episode_return\n",
        "    )\n",
        "\n",
        "    # END YOUR CODE\n",
        "\n",
        "    # Generate new random parameters\n",
        "    new_params = get_new_random_weights(key, current_params)\n",
        "\n",
        "    # Bundle weights in RandomPolicySearchParams NamedTuple\n",
        "    params = RandomPolicySearchParams(current=new_params, best=best_params)\n",
        "\n",
        "    return params, RandomPolicyLearnState(best_average_episode_return)"
      ]
    },
    {
      "cell_type": "code",
      "execution_count": null,
      "metadata": {
        "id": "CXHV4k2iBLBF",
        "colab": {
          "base_uri": "https://localhost:8080/"
        },
        "outputId": "2ca7bee1-7aae-4da2-94f4-2c508b12f005"
      },
      "outputs": [
        {
          "output_type": "stream",
          "name": "stdout",
          "text": [
            "Your function looks correct.\n"
          ]
        }
      ],
      "source": [
        "#@title Проверка упр 5 {display-mode: \"form\"}\n",
        "\n",
        "params = RandomPolicySearchParams(np.ones(obs_shape, \"float32\"), np.ones(obs_shape, \"float32\") * -1)\n",
        "learn_state = RandomPolicyLearnState(10)\n",
        "memory = 11\n",
        "key = jax.random.PRNGKey(42)\n",
        "\n",
        "try:\n",
        "  new_params, new_learn_state = random_policy_search_learn(key, params, learn_state, memory)\n",
        "\n",
        "  if not jnp.array_equal(new_params.current, jnp.array([ 0.29657745,  1.4265499 , -1.7621555 , -1.7505779 ])):\n",
        "    print(\"Your function is incorrect.\")\n",
        "\n",
        "  elif not jnp.array_equal(new_params.best, jnp.array([1., 1., 1., 1.])):\n",
        "    print(\"Your function is incorrect.\")\n",
        "\n",
        "  elif new_learn_state.best_average_episode_return != 11:\n",
        "    print(\"Your function is incorrect.\")\n",
        "\n",
        "  else:\n",
        "    print(\"Your function looks correct.\")\n",
        "except Exception as e:\n",
        "    print(\"An Error Occured: {}\".format(e))"
      ]
    },
    {
      "cell_type": "markdown",
      "metadata": {
        "id": "5Ol_AxnMBdgP"
      },
      "source": [
        "### Цикл обучения RPS\n",
        "Теперь мы можем собрать все вместе, передав модуль `memory`, функцию `learn` и функцию `choose_action` в цикл обучения. Чтобы ускорить наш алгоритм, мы будем использовать `jax.jit` в функции `learn` и функции `choose_action`."
      ]
    },
    {
      "cell_type": "code",
      "execution_count": null,
      "metadata": {
        "id": "Qx57tf7vRjM3",
        "colab": {
          "base_uri": "https://localhost:8080/",
          "height": 680
        },
        "outputId": "e6e3cc79-542e-4be8-868e-92311ccbbbd6"
      },
      "outputs": [
        {
          "output_type": "stream",
          "name": "stdout",
          "text": [
            "Starting training. This may take up to 5 minutes to complete.\n",
            "Episode: 0\tEpisode Return: 80.0\tAverage Episode Return: 80.0\tEvaluator Episode Return: 140.375\n",
            "Episode: 100\tEpisode Return: 131.0\tAverage Episode Return: 38.8\tEvaluator Episode Return: 104.125\n",
            "Episode: 200\tEpisode Return: 200.0\tAverage Episode Return: 18.5\tEvaluator Episode Return: 93.375\n",
            "Episode: 300\tEpisode Return: 10.0\tAverage Episode Return: 190.4\tEvaluator Episode Return: 169.0\n",
            "Episode: 400\tEpisode Return: 97.0\tAverage Episode Return: 39.05\tEvaluator Episode Return: 161.625\n",
            "Episode: 500\tEpisode Return: 10.0\tAverage Episode Return: 32.95\tEvaluator Episode Return: 160.375\n",
            "Episode: 600\tEpisode Return: 75.0\tAverage Episode Return: 45.65\tEvaluator Episode Return: 168.0\n",
            "Episode: 700\tEpisode Return: 9.0\tAverage Episode Return: 9.15\tEvaluator Episode Return: 142.375\n",
            "Episode: 800\tEpisode Return: 34.0\tAverage Episode Return: 10.55\tEvaluator Episode Return: 175.0\n",
            "Episode: 900\tEpisode Return: 10.0\tAverage Episode Return: 55.85\tEvaluator Episode Return: 125.0\n",
            "Episode: 1000\tEpisode Return: 9.0\tAverage Episode Return: 9.3\tEvaluator Episode Return: 125.875\n"
          ]
        },
        {
          "output_type": "display_data",
          "data": {
            "text/plain": [
              "<Figure size 640x480 with 1 Axes>"
            ],
            "image/png": "[encoded data removed]"
          },
          "metadata": {}
        }
      ],
      "source": [
        "# JIT the learn and choose action functions\n",
        "random_policy_search_learn_jit = jax.jit(random_policy_search_learn)\n",
        "random_policy_search_choose_action_jit = jax.jit(random_policy_search_choose_action)\n",
        "\n",
        "# Initialise the parameters\n",
        "initial_weights = np.ones(obs_shape, \"float32\")\n",
        "initial_params = RandomPolicySearchParams(initial_weights, initial_weights)\n",
        "\n",
        "# Initialise the learn state\n",
        "initial_learn_state = RandomPolicyLearnState(best_average_episode_return=-float(\"inf\"))\n",
        "\n",
        "# Initialise memory\n",
        "memory = AverageEpisodeReturnBuffer(num_episodes_to_store=50)\n",
        "\n",
        "# Run the training loop\n",
        "print(\"Starting training. This may take up to 5 minutes to complete.\")\n",
        "chex.clear_trace_counter()\n",
        "episode_return, evaluator_episode_returns = run_training_loop(\n",
        "                                        env_name,\n",
        "                                        initial_params,\n",
        "                                        random_policy_search_choose_action_jit,\n",
        "                                        None, # no actor state\n",
        "                                        random_policy_search_learn_jit,\n",
        "                                        initial_learn_state,\n",
        "                                        memory,\n",
        "                                        num_episodes=1001,\n",
        "                                        video_subdir=\"rps\"\n",
        "                                    )\n",
        "\n",
        "# Plot graph of evaluator episode returns\n",
        "plt.plot(np.linspace(0, 1000, len(evaluator_episode_returns)), evaluator_episode_returns)\n",
        "plt.title(\"Random Policy Search\")\n",
        "plt.xlabel(\"Episodes\")\n",
        "plt.ylabel(\"Episode Return\")\n",
        "plt.show()"
      ]
    },
    {
      "cell_type": "markdown",
      "metadata": {
        "id": "TG10FG6uS05A"
      },
      "source": [
        "Надеюсь, вы нашли набор оптимальных параметров на CartPole (возврат эпизода достигает `200`). В ячейке ниже вы можете посмотреть несколько видеороликов агента, выполняющего задание."
      ]
    },
    {
      "cell_type": "code",
      "execution_count": null,
      "metadata": {
        "id": "KgayDJ7KWC4C",
        "colab": {
          "base_uri": "https://localhost:8080/",
          "height": 288
        },
        "outputId": "9852bd83-d511-4fa3-f337-0d62ce280fb8"
      },
      "outputs": [
        {
          "output_type": "execute_result",
          "data": {
            "text/plain": [
              "<IPython.core.display.HTML object>"
            ],
            "text/html": [
              "\n",
              "<video width=400 controls>\n",
              "      <source src=\"data:video/mp4;base64,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\" type=\"video/mp4\">\n",
              "</video>\n"
            ]
          },
          "metadata": {},
          "execution_count": 107
        }
      ],
      "source": [
        "#@title Visualise Policy {display-mode: \"form\"}\n",
        "#@markdown Choose an episode number that is a multiple of 100 and less than or equal to 2000, and **run** this cell.\n",
        "episode_number = 1000 #@param {type:\"number\"}\n",
        "\n",
        "assert (episode_number % 100) == 0, \"Episode number must be a multiple of 100 since we only record every 100th episode.\"\n",
        "assert episode_number < 1001, \"Episode number must be less than or equal to 2000\"\n",
        "\n",
        "eval_episode_number = int(episode_number / 100 * 8)\n",
        "video_path = f\"./video/rps/eval/rl-video-episode-{eval_episode_number}.mp4\"\n",
        "\n",
        "mp4 = open(video_path,'rb').read()\n",
        "data_url = \"data:video/mp4;base64,\" + b64encode(mp4).decode()\n",
        "HTML(\"\"\"\n",
        "<video width=400 controls>\n",
        "      <source src=\"%s\" type=\"video/mp4\">\n",
        "</video>\n",
        "\"\"\" % data_url)"
      ]
    },
    {
      "cell_type": "markdown",
      "metadata": {
        "id": "Xwf1IKKbrrVn"
      },
      "source": [
        "Итак, случайный поиск политики справился с этой задачей довольно хорошо. Однако здесь происходит очень мало (если вообще происходит) реального *обучения*. Далее давайте рассмотрим реализацию простого алгоритма RL, который может использовать свой опыт для руководства нашим поиском оптимальной политики, а не просто искать ее случайным образом."
      ]
    },
    {
      "cell_type": "markdown",
      "metadata": {
        "id": "XEnSjZVESrxc"
      },
      "source": [
        "## 3. Градиенты политики  (Policy Gradients, PG)\n",
        "Как обсуждалось, цель RL — найти политику, которая максимизирует ожидаемое совокупное вознаграждение (возврат), которое агент получает от среды. Мы можем записать ожидаемый возврат политики как:\n",
        "\n",
        "$J(\\pi_\\theta)=\\mathrm{E}_{\\tau\\sim\\pi_\\theta}\\ [R(\\tau)]$,\n",
        "\n",
        "где $\\pi_\\theta$ — это политика, параметризованная $\\theta$, $\\mathrm{E}$ означает *ожидание*, $\\tau$ — это сокращение для \"*эпизод*\", $\\tau\\sim\\pi_\\theta$ — это сокращение для \"*эпизоды, выбранные с использованием политики* $\\pi_\\theta$\", а $R(\\tau)$ — это возврат эпизода $\\tau$.\n",
        "\n",
        "Затем, цель в RL — найти параметры $\\theta$, которые максимизируют функцию $J(\\pi_\\theta)$. Один из способов найти эти параметры — выполнить градиентный подъем по $J(\\pi_\\theta)$ относительно параметров $\\theta$:\n",
        "\n",
        "$\\theta_{k+1}=\\theta_k + \\alpha \\nabla J(\\pi_\\theta)|_{\\theta_{k}}$,\n",
        "\n",
        "где $\\nabla J(\\pi_\\theta)|_{\\theta_{k}}$ — градиент ожидаемой доходности относительно параметров политики $\\theta_k$, а $\\alpha$ — размер шага. Эта величина, $\\nabla J(\\pi_\\theta)$, также называется **градиентом политики** и очень важна в RL. Если мы сможем вычислить градиент политики, то у нас будет средство, с помощью которого можно напрямую оптимизировать нашу политику.\n",
        "\n",
        "Как оказалось, у нас есть способ вычислить градиент политики, и математический вывод можно найти [здесь](https://spinningup.openai.com/en/latest/spinningup/rl_intro3.html). Но для этого руководства мы опустим вывод и просто дадим вам результат:\n",
        "\n",
        "$\\nabla_{\\theta} J(\\pi_{\\theta})=\\underset{\\tau \\sim \\pi_{\\theta}}{\\mathrm{E}}[\\sum_{t=0}^{T} \\nabla_{\\theta} \\log \\pi_{\\theta}(a_{t} \\mid s_{t}) R(\\tau)]$\n",
        "\n",
        "Неформально, градиент политики равен градиенту логарифма вероятности выбранного действия, умноженного на возврат эпизода, в котором было предпринято действие.\n"
      ]
    },
    {
      "cell_type": "markdown",
      "metadata": {
        "id": "BTnTzgtSuy-y"
      },
      "source": [
        "### REINFORCE\n",
        "REINFORCE — это простой алгоритм RL, который использует градиент политики для поиска оптимальной политики путем увеличения вероятности выбора действий (усиливающих действий), которые, как правило, приводят к эпизодам с высокой отдачей.\n",
        "\n",
        "**Упражнение 6:** Реализуйте функцию, которая берет вероятность действия и отдачу эпизода, в котором действие было предпринято, и вычисляет логарифм вероятности, умноженный на отдачу. Убедитесь, что вы используете JAX.\n",
        "\n",
        "**Полезные функции:**\n",
        "*   `jax.numpy.log`([docs](https://jax.readthedocs.io/en/latest/_autosummary/jax.numpy.log.html))"
      ]
    },
    {
      "cell_type": "code",
      "execution_count": null,
      "metadata": {
        "id": "bJObUsoUrOyV"
      },
      "outputs": [],
      "source": [
        "def compute_weighted_log_prob(action_prob, episode_return):\n",
        "\n",
        "    # YOUR CODE\n",
        "\n",
        "    log_porb = jax.numpy.log(action_prob)\n",
        "\n",
        "    weighted_log_prob =  log_porb * episode_return\n",
        "\n",
        "    # END YOUR CODE\n",
        "\n",
        "    return weighted_log_prob"
      ]
    },
    {
      "cell_type": "code",
      "execution_count": null,
      "metadata": {
        "id": "eZPoTwa1Gbm1",
        "colab": {
          "base_uri": "https://localhost:8080/"
        },
        "outputId": "8247c159-d1bc-4f09-e2e1-91368f981d27"
      },
      "outputs": [
        {
          "output_type": "stream",
          "name": "stdout",
          "text": [
            "Looks correct.\n"
          ]
        }
      ],
      "source": [
        "#@title Проверка упр 6 {display-mode: \"form\"}\n",
        "\n",
        "try:\n",
        "  action_prob = 0.8\n",
        "  episode_return = 100\n",
        "  result = compute_weighted_log_prob(action_prob, episode_return)\n",
        "  if result != -22.314354:\n",
        "    print(\"Your implementation looks incorrect.\")\n",
        "  else:\n",
        "    print(\"Looks correct.\")\n",
        "except Exception as e:\n",
        "    print(\"An Error Occured: {}\".format(e))"
      ]
    },
    {
      "cell_type": "markdown",
      "metadata": {
        "id": "NmgW9UJ3tIpl"
      },
      "source": [
        "### Rewards-to-go\n",
        "Выполнение градиентного подъема по градиенту логарифма вероятности действия, взвешенного по возврату эпизода, будет иметь тенденцию повышать вероятность действий, которые были в эпизодах с высоким возвратом, независимо от того, *где* в эпизоде ​​было выполнено действие. Это на самом деле не имеет большого смысла, потому что действие ближе к концу эпизода может быть подкреплено, потому что много вознаграждения было собрано ранее в эпизоде, *до* того, как было выполнено действие. Агенты RL должны на самом деле подкреплять действия только на основе их *последствий*. Вознаграждения, полученные до выполнения действия, не влияют на то, насколько хорошим было это действие: только вознаграждения, которые приходят после. Накопленные вознаграждения, полученные после выполнения действия, называются **вознаграждениями-к-переходу** и могут быть вычислены как:\n",
        "\n",
        "$\\hat{R}_i=\\sum_{t=i}^Tr_t$\n",
        "\n",
        "Сравните это с доходностью эпизода:\n",
        "\n",
        "$R(\\tau)=\\sum_{t=0}^Tr_t$\n",
        "\n",
        "Мы можем повысить надежность градиента политики, заменив доходность эпизода на вознаграждения-к-переходу. Градиент политики с оставшимися наградами задается следующим образом:\n",
        "\n",
        "$\\nabla_{\\theta} J(\\pi_{\\theta})=\\underset{\\tau \\sim \\pi_{\\theta}}{\\mathrm{E}}[\\sum_{t=0}^{T} \\nabla_{\\theta} \\log \\pi_{\\theta}(a_{t} \\mid s_{t}) \\hat{R}_t]$\n",
        "\n",
        "**Упражнение 7:** Реализуйте функцию, которая берет список всех наград, полученных в эпизоде, и вычисляет оставшиеся награды. Не беспокойтесь об использовании JAX в этой функции. Вы можете использовать обычные операции Python, такие как `for-loops`."
      ]
    },
    {
      "cell_type": "code",
      "execution_count": null,
      "metadata": {
        "id": "nV1Hww8E3dUJ"
      },
      "outputs": [],
      "source": [
        "def compute_rewards_to_go(rewards):\n",
        "    \"\"\"\n",
        "    This function should take a list of rewards as input and\n",
        "    compute the rewards-to-go for each timestep.\n",
        "\n",
        "    EXAMPLE: compute_rewards_to_go([1,2,3,4]) = [10, 9, 7, 4]\n",
        "\n",
        "    Arguments:\n",
        "        rewards[t] is the reward at time step t.\n",
        "\n",
        "    Returns:\n",
        "        rewards_to_go[t] should be the reward-to-go at timestep t.\n",
        "    \"\"\"\n",
        "\n",
        "    rewards_to_go = []\n",
        "\n",
        "    # YOUR CODE\n",
        "    total_reward = 0\n",
        "    for reward in reversed(rewards):\n",
        "      total_reward += reward\n",
        "      rewards_to_go.insert(0, total_reward)\n",
        "\n",
        "    # END YOUR CODE\n",
        "\n",
        "    return rewards_to_go"
      ]
    },
    {
      "cell_type": "code",
      "execution_count": null,
      "metadata": {
        "id": "hLVaVRp28YGI",
        "colab": {
          "base_uri": "https://localhost:8080/"
        },
        "outputId": "2ce10d7f-c377-4965-b1e6-a581baaa747f"
      },
      "outputs": [
        {
          "output_type": "stream",
          "name": "stdout",
          "text": [
            "Looks correct.\n"
          ]
        }
      ],
      "source": [
        "#@title Проверка упр 7 {display-mode: \"form\"}\n",
        "\n",
        "try:\n",
        "  result = compute_rewards_to_go([1,2,3,4])\n",
        "\n",
        "  if result != [10, 9, 7, 4]:\n",
        "    print(\"There is a problem with your implementation.\")\n",
        "  else:\n",
        "    print(\"Looks correct.\")\n",
        "except Exception as e:\n",
        "    print(\"An Error Occured: {}\".format(e))\n"
      ]
    },
    {
      "cell_type": "markdown",
      "metadata": {
        "id": "IboxN9MS65i5"
      },
      "source": [
        "### REINFORCE memory\n",
        "Далее нам нужно будет создать новую память агента для хранения вознаграждений $\\hat{R}_t$ вместе с наблюдением $o_t$ и действием $a_t$ на каждом временном шаге. Ниже мы реализовали такой модуль памяти для вас. Функция `memory.sample()` вернет пакет из последних 500 воспоминаний. Вы можете прочитать код, чтобы попытаться понять его, но это не обязательно. Поэтому мы скрываем код по умолчанию."
      ]
    },
    {
      "cell_type": "code",
      "execution_count": null,
      "metadata": {
        "id": "xhS4V6auRjM3"
      },
      "outputs": [],
      "source": [
        "# @title Реализация памяти (run me) {display-mode: \"form\"}\n",
        "\n",
        "# NamedTuple to store memory\n",
        "EpisodeRewardsToGoMemory = collections.namedtuple(\"EpisodeRewardsToGoMemory\", [\"obs\", \"action\", \"reward_to_go\"])\n",
        "\n",
        "class EpisodeRewardsToGoBuffer:\n",
        "\n",
        "    def __init__(self, num_transitions_to_store=512, batch_size=256):\n",
        "        self.batch_size = batch_size\n",
        "        self.memory_buffer = collections.deque(maxlen=num_transitions_to_store)\n",
        "        self.current_episode_transition_buffer = []\n",
        "\n",
        "    def push(self, transition):\n",
        "        self.current_episode_transition_buffer.append(transition)\n",
        "\n",
        "        if transition.done:\n",
        "\n",
        "            episode_rewards = []\n",
        "            for t in self.current_episode_transition_buffer:\n",
        "                episode_rewards.append(t.reward)\n",
        "\n",
        "            r2g = compute_rewards_to_go(episode_rewards)\n",
        "\n",
        "            for i, t in enumerate(self.current_episode_transition_buffer):\n",
        "                memory = EpisodeRewardsToGoMemory(t.obs, t.action, r2g[i])\n",
        "                self.memory_buffer.append(memory)\n",
        "\n",
        "            # Reset episode buffer\n",
        "            self.current_episode_transition_buffer = []\n",
        "\n",
        "\n",
        "    def is_ready(self):\n",
        "        return len(self.memory_buffer) >= self.batch_size\n",
        "\n",
        "    def sample(self):\n",
        "        random_memory_sample = random.sample(self.memory_buffer, self.batch_size)\n",
        "\n",
        "        obs_batch, action_batch, reward_to_go_batch = zip(*random_memory_sample)\n",
        "\n",
        "        return EpisodeRewardsToGoMemory(\n",
        "            np.stack(obs_batch).astype(\"float32\"),\n",
        "            np.asarray(action_batch).astype(\"int32\"),\n",
        "            np.asarray(reward_to_go_batch).astype(\"int32\")\n",
        "        )\n",
        "\n",
        "\n",
        "# Instantiate Memory\n",
        "REINFORCE_memory = EpisodeRewardsToGoBuffer(num_transitions_to_store=512, batch_size=256)"
      ]
    },
    {
      "cell_type": "markdown",
      "metadata": {
        "id": "Idkav_aSYXvz"
      },
      "source": [
        "### Policy neural network\n",
        "Далее мы будем использовать простую нейронную сеть для аппроксимации политики. Наша нейронная сеть политики будет иметь входной слой, который принимает наблюдение в качестве входных данных и пропускает его через два скрытых слоя, а затем выводит одно скалярное значение для каждого из возможных действий. Таким образом, в CartPole выходной слой будет иметь размер `2`.\n",
        "\n",
        "[Haiku](https://github.com/deepmind/dm-haiku) — это библиотека для реализации нейронных сетей в JAX. Ниже мы реализовали простую функцию для создания сети политики для вас.\n"
      ]
    },
    {
      "cell_type": "code",
      "execution_count": null,
      "metadata": {
        "id": "j2XO7VkORjM4"
      },
      "outputs": [],
      "source": [
        "def make_policy_network(num_actions: int, layers=[20, 20]) -> hk.Transformed:\n",
        "  \"\"\"Factory for a simple MLP network for the policy.\"\"\"\n",
        "\n",
        "  def policy_network(obs):\n",
        "    network = hk.Sequential(\n",
        "        [\n",
        "            hk.Flatten(),\n",
        "            hk.nets.MLP(layers + [num_actions])\n",
        "        ]\n",
        "    )\n",
        "    return network(obs)\n",
        "\n",
        "  return hk.without_apply_rng(hk.transform(policy_network))"
      ]
    },
    {
      "cell_type": "markdown",
      "metadata": {
        "id": "1GR2y8FjaG-G"
      },
      "source": [
        "У сетей Haiku есть две важные функции, о которых вам нужно знать. Первая — `network.init(<random_key>, <input>)`, которая возвращает набор случайных начальных параметров. Второй метод — `network.apply(<params>, <input>)`, который передает входные данные через сеть, используя предоставленный набор параметров."
      ]
    },
    {
      "cell_type": "code",
      "execution_count": null,
      "metadata": {
        "id": "fJrn9o-Vatkw",
        "colab": {
          "base_uri": "https://localhost:8080/"
        },
        "outputId": "2768e690-9e3b-4071-cf5f-21e7b5be5823"
      },
      "outputs": [
        {
          "output_type": "stream",
          "name": "stdout",
          "text": [
            "Initial params: dict_keys(['mlp/~/linear_0', 'mlp/~/linear_1', 'mlp/~/linear_2'])\n",
            "Policy network output: [ 0.91155875 -0.3961737 ]\n"
          ]
        }
      ],
      "source": [
        "# Example\n",
        "POLICY_NETWORK = make_policy_network(num_actions=num_actions, layers=[20,20])\n",
        "random_key = jax.random.PRNGKey(42) # random key\n",
        "dummy_obs = np.ones(obs_shape, \"float32\")\n",
        "\n",
        "# Initialise parameters\n",
        "REINFORCE_params = POLICY_NETWORK.init(random_key, dummy_obs)\n",
        "print(\"Initial params:\", REINFORCE_params.keys())\n",
        "\n",
        "# Pass input through the network\n",
        "output = POLICY_NETWORK.apply(REINFORCE_params, dummy_obs)\n",
        "print(\"Policy network output:\", output)\n"
      ]
    },
    {
      "cell_type": "markdown",
      "metadata": {
        "id": "MlouUBvoeunz"
      },
      "source": [
        "Выходы нашей сети политик — [логиты](https://qr.ae/pv4YTe). Чтобы преобразовать это в распределение вероятностей по действиям, мы передаем логиты в функцию [softmax](https://en.wikipedia.org/wiki/Softmax_function).\n",
        "\n",
        "### УСИЛЕНИЕ выбор функции действия\n",
        "\n",
        "**Упражнение 8:** Завершите функцию ниже, которая берет вектор логитов и случайным образом выбирает действие из категориального распределения, заданного логитами.\n",
        "\n",
        "**Полезные функции:**"
      ]
    },
    {
      "cell_type": "code",
      "execution_count": null,
      "metadata": {
        "id": "m3Z8DxUmeOGJ"
      },
      "outputs": [],
      "source": [
        "def sample_action(random_key, logits):\n",
        "\n",
        "  # YOUR CODE HERE\n",
        "  action = jax.random.categorical(key=random_key, logits=logits)\n",
        "\n",
        "  # END YOUR code\n",
        "\n",
        "  return action"
      ]
    },
    {
      "cell_type": "code",
      "execution_count": null,
      "metadata": {
        "id": "5opHJMO0D_Ub",
        "colab": {
          "base_uri": "https://localhost:8080/"
        },
        "outputId": "fabb0d35-6cae-4ff9-8e37-9258c8bcb1d5"
      },
      "outputs": [
        {
          "output_type": "stream",
          "name": "stdout",
          "text": [
            "Seems correct.\n"
          ]
        }
      ],
      "source": [
        "#@title Проверка упр 8 {display-mode: \"form\"}\n",
        "\n",
        "try:\n",
        "  random_key = jax.random.PRNGKey(42) # random key\n",
        "  action = sample_action(random_key, np.array([1,2], \"float32\"))\n",
        "  if action != 1:\n",
        "    print(\"Your function is incorrect.\")\n",
        "  else:\n",
        "    print(\"Seems correct.\")\n",
        "except Exception as e:\n",
        "    print(\"An Error Occured: {}\".format(e))"
      ]
    },
    {
      "cell_type": "markdown",
      "metadata": {
        "id": "jP5UH87VRjM4"
      },
      "source": [
        "Теперь мы можем реализовать функцию `REINFORCE_choose_action`. Мы передадим наблюдение через сеть политики для вычисления логитов, а затем передадим логиты в функцию `sample_action` для выбора и действия."
      ]
    },
    {
      "cell_type": "code",
      "execution_count": null,
      "metadata": {
        "id": "UJTzrDAZ0Ul5"
      },
      "outputs": [],
      "source": [
        "def REINFORCE_choose_action(key, params, actor_state, obs, evaluation=False):\n",
        "  obs = jnp.expand_dims(obs, axis=0) # add dummy batch dim before passing through network\n",
        "\n",
        "  # Pass obs through policy network to compute logits\n",
        "  logits = POLICY_NETWORK.apply(params, obs)\n",
        "  logits = logits[0] # remove batch dim\n",
        "\n",
        "  # Randomly sample action\n",
        "  sampled_action = sample_action(key, logits)\n",
        "\n",
        "  return sampled_action, actor_state"
      ]
    },
    {
      "cell_type": "markdown",
      "metadata": {
        "id": "NI26SLAb7iRo"
      },
      "source": [
        "Теперь, когда мы реализовали функцию `REINFORCE_choose_action`, нам осталось только создать функцию `REINFORCE_learn`. Функция обучения должна использовать функцию `weighted_log_prob`, которую мы создали ранее, чтобы вычислить потери градиента политики и применить обновления градиента к нашей нейронной сети."
      ]
    },
    {
      "cell_type": "markdown",
      "metadata": {
        "id": "36ALCJESQJ8e"
      },
      "source": [
        "### Policy gradient loss\n",
        "\n",
        "\n",
        "**Упражнение 9:** Завершите функцию `policy_gradient_loss` ниже. Функция должна вычислять вероятности действий, пропуская `logits` через функцию softmax. Затем следует извлечь вероятность заданного `action` (используя индексацию массива) и вычислить `weighted_log_prob`, используя функцию, которую мы создали ранее.\n",
        "\n",
        "**Полезные методы:**\n",
        "*   `jax.nn.softmax` ([docs](https://jax.readthedocs.io/en/latest/_autosummary/jax.nn.softmax.html))"
      ]
    },
    {
      "cell_type": "code",
      "execution_count": null,
      "metadata": {
        "id": "9sUKkqx0RjM4"
      },
      "outputs": [],
      "source": [
        "def policy_gradient_loss(action, logits, reward_to_go):\n",
        "\n",
        "  # YOUR CODE\n",
        "\n",
        "  all_action_probs = jax.nn.softmax(x=logits) # convert logits into probs\n",
        "\n",
        "  action_prob = all_action_probs[action] # using array indexing to get prob of action\n",
        "\n",
        "  weighted_log_prob = compute_weighted_log_prob(action_prob=action_prob, episode_return=reward_to_go)\n",
        "\n",
        "  # END YOUR CODE\n",
        "\n",
        "  loss = - weighted_log_prob # negative because we want gradient `ascent`\n",
        "  print(loss)\n",
        "  return loss"
      ]
    },
    {
      "cell_type": "code",
      "execution_count": null,
      "metadata": {
        "id": "7AMJvau1FsM5",
        "colab": {
          "base_uri": "https://localhost:8080/"
        },
        "outputId": "5376169f-0919-4c7d-c178-2f5603ef1726"
      },
      "outputs": [
        {
          "output_type": "stream",
          "name": "stdout",
          "text": [
            "3.1326165\n",
            "Your implementation looks wrong.\n"
          ]
        }
      ],
      "source": [
        "#@title Проверка упр 9 {display-mode: \"form\"}\n",
        "\n",
        "try:\n",
        "  result = policy_gradient_loss(1, np.array([1,2], \"float32\"), 10)\n",
        "  if result != 3.1326175:\n",
        "    print(\"Your implementation looks wrong.\")\n",
        "  else:\n",
        "    print(\"Looks correct.\")\n",
        "except Exception as e:\n",
        "  print(\"An Error Occured: {}\".format(e))\n"
      ]
    },
    {
      "cell_type": "markdown",
      "metadata": {
        "id": "Gzuqx1jJrwVx"
      },
      "source": [
        "Когда мы делаем шаг обновления градиента политики, мы захотим сделать это, используя пакет опыта, а не просто один опыт, как выше. Мы можем использовать функцию JAX [vmap](https://jax.readthedocs.io/en/latest/_autosummary/jax.vmap.html#jax.vmap), чтобы легко заставить нашу функцию `policy_gradient_loss` работать с пакетом опыта."
      ]
    },
    {
      "cell_type": "code",
      "execution_count": null,
      "metadata": {
        "id": "3yq4naLURjM4",
        "colab": {
          "base_uri": "https://localhost:8080/"
        },
        "outputId": "aa6e28e6-af6b-4fa1-f212-64016e110eb8"
      },
      "outputs": [
        {
          "output_type": "stream",
          "name": "stdout",
          "text": [
            "Traced<ShapedArray(float32[])>with<BatchTrace(level=1/0)> with\n",
            "  val = Array([3.5583065, 1.0292372, 0.5026507], dtype=float32)\n",
            "  batch_dim = 0\n",
            "Policy gradient loss on batch: 1.6967314\n"
          ]
        }
      ],
      "source": [
        "def batched_policy_gradient_loss(params, obs_batch, action_batch, reward_to_go_batch):\n",
        "    # Get logits by passing observation through network\n",
        "    logits_batch = POLICY_NETWORK.apply(params, obs_batch)\n",
        "\n",
        "    policy_gradient_loss_batch = jax.vmap(policy_gradient_loss)(\n",
        "        action_batch,\n",
        "        logits_batch,\n",
        "        reward_to_go_batch) # add batch\n",
        "\n",
        "    # Compute mean loss over batch\n",
        "    mean_policy_gradient_loss = jnp.mean(policy_gradient_loss_batch)\n",
        "\n",
        "    return mean_policy_gradient_loss\n",
        "\n",
        "# TEST\n",
        "obs_batch = np.ones((3, *obs_shape), \"float32\")\n",
        "actions_batch = np.array([1,0,0])\n",
        "rew2go_batch = np.array([2.3, 4.3, 2.1])\n",
        "\n",
        "loss = batched_policy_gradient_loss(REINFORCE_params, obs_batch, actions_batch, rew2go_batch)\n",
        "\n",
        "print(\"Policy gradient loss on batch:\", loss)"
      ]
    },
    {
      "cell_type": "markdown",
      "metadata": {
        "id": "VDhTH3culwqo"
      },
      "source": [
        "### Оптимизатор сети\n",
        "\n",
        "Чтобы применить обновления градиента политики к нашей нейронной сети, мы будем использовать библиотеку JAX под названием [Optax](https://github.com/deepmind/optax). Optax имеет реализацию [оптимизатора Adam](https://www.geeksforgeeks.org/intuition-of-adam-optimizer/), которую мы можем использовать."
      ]
    },
    {
      "cell_type": "code",
      "execution_count": null,
      "metadata": {
        "id": "pxXINlMHP5Ic"
      },
      "outputs": [],
      "source": [
        "REINFORCE_OPTIMIZER = optax.adam(1e-3)\n",
        "\n",
        "# Initialise the optimiser\n",
        "REINFORCE_optim_state = REINFORCE_OPTIMIZER.init(REINFORCE_params)"
      ]
    },
    {
      "cell_type": "markdown",
      "metadata": {
        "id": "ViENrHOALbCw"
      },
      "source": [
        "Теперь у нас есть все необходимое для создания функции `REINFORCE_learn`. Мы сохраним состояние оптимизатора в `learn_state`. Мы вычислим градиент потерь градиента политики с помощью  `jax.grad` ([docs](https://jax.readthedocs.io/en/latest/_autosummary/jax.grad.html))."
      ]
    },
    {
      "cell_type": "code",
      "execution_count": null,
      "metadata": {
        "id": "CQr2Uz5ORjM5"
      },
      "outputs": [],
      "source": [
        "# A NamedTuple to store the state of the optimiser\n",
        "REINFORCELearnState = collections.namedtuple(\"LearnerState\", [\"optim_state\"])\n",
        "\n",
        "\n",
        "def REINFORCE_learn(key, params, learner_state, memory):\n",
        "\n",
        "  # Get the policy gradient by using `jax.grad()` on `batched_policy_gradient_loss`\n",
        "  grad_loss = jax.grad(batched_policy_gradient_loss)(params, memory.obs, memory.action, memory.reward_to_go)\n",
        "\n",
        "  # Get param updates using gradient and optimizer\n",
        "  updates, new_optim_state = REINFORCE_OPTIMIZER.update(grad_loss, learner_state.optim_state)\n",
        "\n",
        "  # Apply updates to params\n",
        "  params = optax.apply_updates(params, updates)\n",
        "\n",
        "  return params, REINFORCELearnState(new_optim_state) # update learner state"
      ]
    },
    {
      "cell_type": "markdown",
      "metadata": {
        "id": "5an3U2NhRKgG"
      },
      "source": [
        "### Цикл обучения REINFORCE\n",
        "Теперь мы можем обучить нашего агента REINFORCE, собрав все воедино с помощью цикла обучения."
      ]
    },
    {
      "cell_type": "code",
      "execution_count": null,
      "metadata": {
        "id": "vioIcVGsRjM5",
        "colab": {
          "base_uri": "https://localhost:8080/",
          "height": 822
        },
        "outputId": "beef4370-a252-493d-f139-407adc9ca6f9"
      },
      "outputs": [
        {
          "output_type": "stream",
          "name": "stdout",
          "text": [
            "Starting training. This may take up to 10 minutes to complete.\n",
            "Episode: 0\tEpisode Return: 12.0\tAverage Episode Return: 12.0\tEvaluator Episode Return: 18.125\n",
            "Traced<ShapedArray(float32[])>with<BatchTrace(level=4/0)> with\n",
            "  val = Traced<ShapedArray(float32[256])>with<JVPTrace(level=3/0)> with\n",
            "    primal = Traced<ShapedArray(float32[256])>with<DynamicJaxprTrace(level=1/0)>\n",
            "    tangent = Traced<ShapedArray(float32[256])>with<JaxprTrace(level=2/0)> with\n",
            "      pval = (ShapedArray(float32[256]), None)\n",
            "      recipe = JaxprEqnRecipe(eqn_id=<object object at 0x795a09d8c920>, in_tracers=(Traced<ShapedArray(float32[256]):JaxprTrace(level=2/0)>,), out_tracer_refs=[<weakref at 0x795a09ddb9c0; to 'JaxprTracer' at 0x795a09ddb970>], out_avals=[ShapedArray(float32[256])], primitive=pjit, params={'jaxpr': { lambda ; a:f32[256]. let b:f32[256] = neg a in (b,) }, 'in_shardings': (UnspecifiedValue,), 'out_shardings': (UnspecifiedValue,), 'in_layouts': (None,), 'out_layouts': (None,), 'resource_env': None, 'donated_invars': (False,), 'name': 'negative', 'keep_unused': False, 'inline': True}, effects=set(), source_info=<jax._src.source_info_util.SourceInfo object at 0x795a09de4d60>, ctx=JaxprEqnContext(compute_type=None,threefry_partitionable=False),xla_metadata={})\n",
            "  batch_dim = 0\n",
            "Episode: 100\tEpisode Return: 55.0\tAverage Episode Return: 71.4\tEvaluator Episode Return: 73.625\n",
            "Episode: 200\tEpisode Return: 192.0\tAverage Episode Return: 191.4\tEvaluator Episode Return: 164.25\n",
            "Episode: 300\tEpisode Return: 200.0\tAverage Episode Return: 180.75\tEvaluator Episode Return: 188.125\n",
            "Episode: 400\tEpisode Return: 200.0\tAverage Episode Return: 168.95\tEvaluator Episode Return: 184.375\n",
            "Episode: 500\tEpisode Return: 192.0\tAverage Episode Return: 134.85\tEvaluator Episode Return: 181.75\n",
            "Episode: 600\tEpisode Return: 200.0\tAverage Episode Return: 200.0\tEvaluator Episode Return: 200.0\n",
            "Episode: 700\tEpisode Return: 200.0\tAverage Episode Return: 200.0\tEvaluator Episode Return: 200.0\n",
            "Episode: 800\tEpisode Return: 200.0\tAverage Episode Return: 200.0\tEvaluator Episode Return: 200.0\n",
            "Episode: 900\tEpisode Return: 200.0\tAverage Episode Return: 200.0\tEvaluator Episode Return: 200.0\n",
            "Episode: 1000\tEpisode Return: 200.0\tAverage Episode Return: 196.0\tEvaluator Episode Return: 200.0\n"
          ]
        },
        {
          "output_type": "display_data",
          "data": {
            "text/plain": [
              "<Figure size 640x480 with 1 Axes>"
            ],
            "image/png": "[encoded data removed]"
          },
          "metadata": {}
        }
      ],
      "source": [
        "# JIT the choose_action and learn functions for more speed\n",
        "REINFORCE_learn_jit = jax.jit(REINFORCE_learn)\n",
        "REINFORCE_choose_action_jit = jax.jit(REINFORCE_choose_action)\n",
        "\n",
        "# Initial learn state\n",
        "REINFORCE_learn_state = REINFORCELearnState(REINFORCE_optim_state)\n",
        "\n",
        "# Run training loop\n",
        "print(\"Starting training. This may take up to 10 minutes to complete.\")\n",
        "episode_returns, evaluator_returns = run_training_loop(\n",
        "                                        env_name,\n",
        "                                        REINFORCE_params,\n",
        "                                        REINFORCE_choose_action_jit,\n",
        "                                        None, # action state not used\n",
        "                                        REINFORCE_learn_jit,\n",
        "                                        REINFORCE_learn_state,\n",
        "                                        REINFORCE_memory,\n",
        "                                        num_episodes=1001,\n",
        "                                        learn_steps_per_episode=2,\n",
        "                                        video_subdir=\"reinforce\"\n",
        "                                      )\n",
        "\n",
        "# Plot the episode returns\n",
        "plt.plot(episode_returns)\n",
        "plt.xlabel(\"Episode\")\n",
        "plt.ylabel(\"Episode Return\")\n",
        "plt.title(\"REINFORCE\")\n",
        "plt.show()\n"
      ]
    },
    {
      "cell_type": "code",
      "execution_count": null,
      "metadata": {
        "id": "caKL3ngNr_Yh",
        "colab": {
          "base_uri": "https://localhost:8080/",
          "height": 288
        },
        "outputId": "47ca4ed6-853d-4daa-ac4e-fb02ad6af954"
      },
      "outputs": [
        {
          "output_type": "execute_result",
          "data": {
            "text/plain": [
              "<IPython.core.display.HTML object>"
            ],
            "text/html": [
              "\n",
              "<video width=400 controls>\n",
              "      <source src=\"data:video/mp4;base64,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\" type=\"video/mp4\">\n",
              "</video>\n"
            ]
          },
          "metadata": {},
          "execution_count": 129
        }
      ],
      "source": [
        "#@title Визуализация {display-mode: \"form\"}\n",
        "#@markdown Выберите номер эпизода, менее или равного 1000, и **run this cell**.\n",
        "\n",
        "episode_number = 1000 #@param {type:\"number\"}\n",
        "\n",
        "assert (episode_number % 100) == 0, \"Episode number must be a multiple of 100 since we only record every 100th episode.\"\n",
        "assert episode_number < 1001, \"Episode number must be less than or equal to 1000\"\n",
        "\n",
        "eval_episode_number = int(episode_number / 100 * 8)\n",
        "video_path = f\"./video/reinforce/eval/rl-video-episode-{eval_episode_number}.mp4\"\n",
        "\n",
        "mp4 = open(video_path,'rb').read()\n",
        "data_url = \"data:video/mp4;base64,\" + b64encode(mp4).decode()\n",
        "HTML(\"\"\"\n",
        "<video width=400 controls>\n",
        "      <source src=\"%s\" type=\"video/mp4\">\n",
        "</video>\n",
        "\"\"\" % data_url)"
      ]
    },
    {
      "cell_type": "markdown",
      "metadata": {
        "id": "D_HHzFTOc-Qr"
      },
      "source": [
        "## 4. Q-Learning\n",
        "Другим распространенным подходом к поиску оптимальной политики в среде с использованием RL является Q-обучение."
      ]
    },
    {
      "cell_type": "markdown",
      "metadata": {
        "id": "lF1nOZrUSzhE"
      },
      "source": [
        "### Функция значения состояния-действия\n",
        "В Q-обучении агент изучает функцию, которая аппроксимирует **значение** пар состояние-действие. Под *значением* мы подразумеваем отдачу, которую вы ожидаете получить, если начнете в определенном состоянии $s_t$, выполните определенное действие $a_t$, а затем будете действовать в соответствии с определенной политикой $\\pi$ навсегда. Функция значения состояния-действия политики $\\pi$ задается как\n",
        "\n",
        "$Q_\\pi(s,a)=\\mathrm{E}_{\\tau\\sim\\pi}\\left[R(\\tau) \\mid s_0=s,\\ a_t=a\\right]$.\n",
        "\n",
        "Мы говорим, что функция значения $Q_\\pi(s,a)$ является **оптимальной** функцией значения, если политика $\\pi$ является оптимальной политикой. Обозначим функцию оптимального значения следующим образом:\n",
        "\n",
        "$Q_\\ast(s,a)=\\max \\limits_\\pi \\ \\mathrm{E}_{\\tau\\sim\\pi}\\left[R(\\tau) \\mid s_0=s,\\ a_0=a\\right]$\n",
        "\n",
        "Существует важная связь между оптимальным действием $a_\\ast$ в состоянии $s$ и оптимальной функцией значения состояния-действия $Q_\\ast$. А именно, оптимальное действие $a_\\ast$ в состоянии $s$ равно действию, которое максимизирует оптимальную функцию значения состояния-действия. Эта связь естественным образом индуцирует оптимальную политику:\n",
        "\n",
        "$\\pi_\\ast(s)=\\arg \\max \\limits_a\\ Q_\\ast(s, a)$"
      ]
    },
    {
      "cell_type": "markdown",
      "metadata": {
        "id": "H2x2tqvZSihz"
      },
      "source": [
        "### Greedy action selection (Жадный выбор действия)\n",
        "\n",
        "**Упражнение 10:** Давайте реализуем функцию, которая, учитывая вектор Q-значений, возвращает действие с наибольшим Q-значением (т. е. жадное действие).\n",
        "\n",
        "**Useful methods:**\n",
        "*   `jax.numpy.argmax` ([docs](https://jax.readthedocs.io/en/latest/_autosummary/jax.numpy.argmax.html))"
      ]
    },
    {
      "cell_type": "code",
      "execution_count": null,
      "metadata": {
        "id": "Nn9P1YdzTIDU"
      },
      "outputs": [],
      "source": [
        "# Implement a function takes q-values as input and returns the greedy_action\n",
        "def select_greedy_action(q_values):\n",
        "\n",
        "  # YOUR CODE\n",
        "  action = jax.numpy.argmax(a=q_values)\n",
        "  # END YOUR CODE\n",
        "\n",
        "  return action"
      ]
    },
    {
      "cell_type": "code",
      "execution_count": null,
      "metadata": {
        "id": "ZBzLr_G7QKXR",
        "colab": {
          "base_uri": "https://localhost:8080/"
        },
        "outputId": "ccac2c90-78c5-4a95-fefe-c9f6b47e133c"
      },
      "outputs": [
        {
          "output_type": "stream",
          "name": "stdout",
          "text": [
            "Looks good.\n"
          ]
        }
      ],
      "source": [
        "# @title Проверка упр 10 (run me) {display-mode: \"form\"}\n",
        "\n",
        "try:\n",
        "  q_values = jnp.array([1,1,3,4])\n",
        "  action = select_greedy_action(q_values)\n",
        "\n",
        "  if action != 3:\n",
        "    print(\"Incorrect answer, your greedy action selector looks wrong\")\n",
        "  else:\n",
        "    print(\"Looks good.\")\n",
        "except Exception as e:\n",
        "  print(\"An Error Occured: {}\".format(e))\n"
      ]
    },
    {
      "cell_type": "markdown",
      "metadata": {
        "id": "PFQUlqZ4ZyLp"
      },
      "source": [
        "### Q-Network\n",
        "В отличие от подхода с градиентом политики из предыдущего раздела, в Q-обучении и других методах RL на основе значений нам не нужна параметризация для политики, вместо этого мы параметризуем Q-функцию с помощью нейронной сети $Q_\\theta$. Мы получаем политику из Q-сети, всегда выбирая действие с *наибольшим* значением:\n",
        "\n",
        "$\\hat{\\pi}_\\theta(s)=\\arg \\max \\limits_a\\ Q_{\\theta}(s, a)$\n",
        "\n",
        "Как и ранее, мы будем использовать хайку для создания нейронной сети для аппроксимации этой Q-функции. Сеть будет принимать наблюдение в качестве входных данных, а затем выводить Q-значение для каждого из доступных действий. Таким образом, в случае CartPole выход сети будет иметь размер $2$."
      ]
    },
    {
      "cell_type": "code",
      "execution_count": null,
      "metadata": {
        "id": "9wU1soJYZyLp"
      },
      "outputs": [],
      "source": [
        "def build_network(num_actions: int, layers=[20, 20]) -> hk.Transformed:\n",
        "  \"\"\"Factory for a simple MLP network for approximating Q-values.\"\"\"\n",
        "\n",
        "  def q_network(obs):\n",
        "    network = hk.Sequential(\n",
        "        [hk.Flatten(),\n",
        "         hk.nets.MLP(layers + [num_actions])])\n",
        "    return network(obs)\n",
        "\n",
        "  return hk.without_apply_rng(hk.transform(q_network))"
      ]
    },
    {
      "cell_type": "markdown",
      "metadata": {
        "id": "sUwG-4qTS1zx"
      },
      "source": [
        "Давайте инициализируем нашу Q-сеть и получим начальные параметры."
      ]
    },
    {
      "cell_type": "code",
      "execution_count": null,
      "metadata": {
        "id": "1uvq5n2cS9lu",
        "colab": {
          "base_uri": "https://localhost:8080/"
        },
        "outputId": "bfb9d23f-9d7a-4b9a-fb09-05d980236f52"
      },
      "outputs": [
        {
          "output_type": "stream",
          "name": "stdout",
          "text": [
            "Q-Learning params: dict_keys(['mlp/~/linear_0', 'mlp/~/linear_1', 'mlp/~/linear_2'])\n"
          ]
        }
      ],
      "source": [
        "# Initialise Q-network\n",
        "Q_NETWORK = build_network(num_actions=num_actions, layers=[20, 20]) # two actions\n",
        "\n",
        "dummy_obs = jnp.zeros((1,*obs_shape), jnp.float32) # a dummy observation like the one in CartPole\n",
        "\n",
        "random_key = jax.random.PRNGKey(42) # random key\n",
        "Q_NETWORK_PARAMS = Q_NETWORK.init(random_key, dummy_obs) # Get initial params\n",
        "\n",
        "print(\"Q-Learning params:\", Q_NETWORK_PARAMS.keys())"
      ]
    },
    {
      "cell_type": "markdown",
      "metadata": {
        "id": "iqCUeZfhEfyP"
      },
      "source": [
        "Прежде чем мы реализуем функцию потерь, необходимую для обучения нашей Q-сети, давайте сначала обсудим интуицию, стоящую за ней."
      ]
    },
    {
      "cell_type": "markdown",
      "metadata": {
        "id": "vbLig3uSZyLp"
      },
      "source": [
        "### The Bellman Equations (Уравнения Беллмана)\n",
        "Функция значения может быть записана рекурсивно как:\n",
        "\n",
        "$Q_{\\pi}(s, a) =\\underset{s^{\\prime} \\sim P}{\\mathrm{E}}\\left[r(s, a)+ \\underset{a^{\\prime} \\sim \\pi}{\\mathrm{E}}\\left[Q_{\\pi}\\left(s^{\\prime}, a^{\\prime}\\right)\\right]\\right]$,\n",
        "\n",
        "где $s' \\sim P$ — это сокращение для обозначения того, что следующее состояние $s'$ выбирается из функции перехода среды $P(s'\\mid s,a)$. Интуитивно это уравнение говорит, что ценность действия $a$, которое вы предприняли в состоянии $s$, равна вознаграждению $r$, которое вы ожидаете получить, плюс ценность, которую вы ожидаете получить в следующем состоянии $s`$, в котором вы окажетесь, при условии, что вы выберете свое следующее действие $a`$ с политикой $\\pi$. Уравнение Беллмана для оптимальной функции ценности выглядит так:\n",
        "\n",
        "$Q_{*}(s, a) =\\underset{s^{\\prime} \\sim P}{\\mathrm{E}}\\left[r(s, a)+\\ \\underset{a^{\\prime}}{\\max}\\ Q_{*}(s^{\\prime}, a^{\\prime})\\right]$\n",
        "\n",
        "Обратите внимание, что вместо выбора вашего следующего действия $a`$ с политикой $\\pi$ мы выбираем действие с наибольшим значением Q.\n",
        "\n",
        "Более подробное обсуждение уравнений Беллмана можно найти на сайте [OpenAI Spinning Up](https://spinningup.openai.com/en/latest/spinningup/rl_intro.html)."
      ]
    },
    {
      "cell_type": "markdown",
      "metadata": {
        "id": "DsOJi5G8ZyLp"
      },
      "source": [
        "### The Bellman Backup (Резервное копирование Беллмана)\n",
        "\n",
        "Чтобы научиться аппроксимировать оптимальную функцию Q-значения, мы можем использовать правую часть уравнения Беллмана в качестве правила обновления. Другими словами, предположим, что у нас есть Q-сеть $Q_\\theta$, аппроксимированная с использованием параметров $\\theta$, тогда мы можем итеративно обновлять параметры таким образом, что\n",
        "\n",
        "$Q_\\theta(s,a)\\leftarrow r(s, a) + \\underset{a'}{\\max}\\ Q_\\theta(s', a')$.\n",
        "\n",
        "Интуитивно это означает, что аппроксимация Q-значения действия $a$ в состоянии $s$ должна быть обновлена ​​таким образом, чтобы она была ближе к равной вознаграждению, полученному от среды $r(s, a)$, плюс значение наилучшего возможного действия в следующем состоянии $s'$. Мы можем выполнить эту оптимизацию, минимизируя разницу между левой и правой частью относительно параметров $\\theta$, используя градиентный спуск. Мы можем измерить разницу между двумя значениями, используя [квадратичную ошибку](https://en.wikipedia.org/wiki/Mean_squared_error#Loss_function).\n",
        "\n",
        "**Упражнение 11:** Реализуйте функцию квадратичной ошибки.\n",
        "\n",
        "**Полезные функции**\n",
        "* `jax.numpy.square` ([docs](https://jax.readthedocs.io/en/latest/_autosummary/jax.numpy.square.html))"
      ]
    },
    {
      "cell_type": "code",
      "execution_count": null,
      "metadata": {
        "id": "PTto__ohZyLp"
      },
      "outputs": [],
      "source": [
        "def compute_squared_error(pred, target):\n",
        "  # YOUR CODE\n",
        "  squared_error = jax.numpy.square(pred-target)\n",
        "  # END YOUR CODE\n",
        "\n",
        "  return squared_error"
      ]
    },
    {
      "cell_type": "code",
      "execution_count": null,
      "metadata": {
        "id": "wGhX8XTFVPVU",
        "colab": {
          "base_uri": "https://localhost:8080/"
        },
        "outputId": "87addf98-6a76-4463-e184-2900d2b25590"
      },
      "outputs": [
        {
          "output_type": "stream",
          "name": "stdout",
          "text": [
            "Looks good.\n"
          ]
        }
      ],
      "source": [
        "#@title Проверка упр 11 {display-mode: \"form\"}\n",
        "\n",
        "try:\n",
        "  result = compute_squared_error(1, 4)\n",
        "\n",
        "  if result != 9:\n",
        "    print(\"Your implementation looks wrong.\")\n",
        "  else:\n",
        "    print(\"Looks good.\")\n",
        "except Exception as e:\n",
        "  print(\"An Error Occured: {}\".format(e))"
      ]
    },
    {
      "cell_type": "markdown",
      "metadata": {
        "id": "ycpZVkgdZyLp"
      },
      "source": [
        "**Упражнение 12:** Реализуйте функцию, которая вычисляет **цель Беллмана** (правая часть уравнения Беллмана). Если эпизод находится на последнем временном шаге (т. е. done==1.0), то цель Беллмана должна быть равна награде, без дополнительного значения в конце.\n",
        "\n",
        "**Полезные функции**\n",
        "* `jax.numpy.max` ([docs](https://jax.readthedocs.io/en/latest/_autosummary/jax.numpy.max.html))"
      ]
    },
    {
      "cell_type": "code",
      "execution_count": null,
      "metadata": {
        "id": "961_OllWZyLp"
      },
      "outputs": [],
      "source": [
        "# Bellman target\n",
        "def compute_bellman_target(reward, done, next_q_values):\n",
        "  \"\"\"A function to compute the bellman target.\n",
        "\n",
        "  Args:\n",
        "      reward: a scalar reward.\n",
        "      done: a scalar of value either 1.0 or 0.0, indicating if the transition is a terminal one.\n",
        "      next_q_values: a vector of q_values for the next state. One for each action.\n",
        "  Returns:\n",
        "      A scalar equal to the bellman target.\n",
        "\n",
        "  \"\"\"\n",
        "  # YOUR CODE\n",
        "  bellman_target = reward + jax.numpy.max(a=next_q_values) * (1.0 - done)\n",
        "  # END YOUR CODE\n",
        "\n",
        "  return bellman_target"
      ]
    },
    {
      "cell_type": "code",
      "execution_count": null,
      "metadata": {
        "id": "E5RAhegOWAkC",
        "colab": {
          "base_uri": "https://localhost:8080/"
        },
        "outputId": "12ac54c7-6da8-4468-8232-595879844db4"
      },
      "outputs": [
        {
          "output_type": "stream",
          "name": "stdout",
          "text": [
            "Looks good.\n"
          ]
        }
      ],
      "source": [
        "#@title Проверка упр 12 {display-mode: \"form\"}\n",
        "\n",
        "try:\n",
        "  # not done\n",
        "  result1 = compute_bellman_target(1, 0.0, np.array([3,2], \"float32\"))\n",
        "\n",
        "  # done\n",
        "  result2 = compute_bellman_target(1, 1.0, np.array([3,2], \"float32\"))\n",
        "\n",
        "  if result1 != 4 or result2 != 1:\n",
        "    print(\"Your implementation looks wrong.\")\n",
        "  else:\n",
        "    print(\"Looks good.\")\n",
        "except Exception as e:\n",
        "  print(\"An Error Occured: {}\".format(e))"
      ]
    },
    {
      "cell_type": "markdown",
      "metadata": {
        "id": "8sIjrHSJZyLq"
      },
      "source": [
        "Теперь мы можем объединить эти две функции, чтобы вычислить потерю для Q-обучения. Потери Q-обучения равны квадрату разницы между прогнозируемым значением Q действия и его соответствующей целью Беллмана.\n",
        "\n",
        "**Упражнение 13:** Реализуйте функцию потери Q-обучения."
      ]
    },
    {
      "cell_type": "code",
      "execution_count": null,
      "metadata": {
        "id": "LJY_kpFcZyLq"
      },
      "outputs": [],
      "source": [
        "def q_learning_loss(q_values, action, reward, done, next_q_values):\n",
        "    \"\"\"Implementation of the Q-learning loss.T\n",
        "\n",
        "    Args:\n",
        "        q_values: a vector of Q-values, one for each action.\n",
        "        action: an integer, giving the action that was chosen. q_values[action] is the value of the chose action.\n",
        "        done: is a scalar that indicates if this is a terminal transition.\n",
        "        next_q_values: a vector of Q-values in the next state.\n",
        "    Returns:\n",
        "        The squared difference between the q_value of the chosen action and the bellman target.\n",
        "    \"\"\"\n",
        "    # YOUR CODE\n",
        "    chosen_action_q_value = q_values[action] # q_value of action, use array indexing\n",
        "    bellman_target = compute_bellman_target(reward, done, next_q_values)\n",
        "    squared_error = compute_squared_error(chosen_action_q_value, bellman_target)\n",
        "    # END YOUR CODE\n",
        "\n",
        "    return squared_error"
      ]
    },
    {
      "cell_type": "code",
      "execution_count": null,
      "metadata": {
        "id": "1aZRn1qaWx2M",
        "colab": {
          "base_uri": "https://localhost:8080/"
        },
        "outputId": "eb83c542-c38e-41ad-df95-757b67328133"
      },
      "outputs": [
        {
          "output_type": "stream",
          "name": "stdout",
          "text": [
            "Looks good.\n"
          ]
        }
      ],
      "source": [
        "#@title Проверка упр 13 {display-mode: \"form\"}\n",
        "\n",
        "try:\n",
        "  result = q_learning_loss(np.array([3,2], \"float32\"), 1, 2, 0.0, np.array([3,2], \"float32\"))\n",
        "\n",
        "  if result != 9.0:\n",
        "    print(\"Your implementation looks wrong.\")\n",
        "  else:\n",
        "    print(\"Looks good.\")\n",
        "except Exception as e:\n",
        "  print(\"An Error Occured: {}\".format(e))"
      ]
    },
    {
      "cell_type": "markdown",
      "metadata": {
        "id": "b4YnSUfJZyLq"
      },
      "source": [
        "### Target Q-network (Целевая Q-сеть)\n",
        "Обратите внимание: когда мы вычисляем цель Беллмана, мы используем нашу Q-сеть $Q_\\theta$ для вычисления значения для следующего состояния $s_t$. По сути, мы используем наше последнее приближение Q-функции для вычисления цели нашего следующего приближения. Использование приближения для вычисления цели для вашего следующего приближения называется самозагрузкой. К сожалению, если мы наивно делаем такую ​​самозагрузку, это может сделать обучение нейронной сети очень нестабильным. Чтобы смягчить это, мы можем вместо этого использовать другой набор параметров $\\hat{\\theta}$ для вычисления значений в состоянии $s_{t+1}$. Мы будем сохранять параметры $\\hat{\\theta}$ фиксированными и только периодически обновлять их, чтобы они были равны последним онлайн-параметрам $\\theta$ каждые пару шагов обучения *(скажем, 100)*. Это позволяет сохранять фиксированные цели Беллмана для пары шагов обучения, чтобы помочь снизить нестабильность из-за самозагрузки.\n",
        "\n",
        "Нам нужно будет отслеживать последние (онлайн) параметры, а также параметры целевых сетей. Давайте создадим `NamedTuple` для хранения этих двух значений. Нам также нужно будет отслеживать количество шагов обучения, которые мы сделали, чтобы знать, когда обновлять целевую сеть. Давайте сохраним `count` шагов обучения в `learn_state`."
      ]
    },
    {
      "cell_type": "code",
      "execution_count": null,
      "metadata": {
        "id": "DvZqUKmq6L7k"
      },
      "outputs": [],
      "source": [
        "# Store online and target parameters\n",
        "QLearnParams = collections.namedtuple(\"Params\", [\"online\", \"target\"])\n",
        "\n",
        "# Q-learn-state\n",
        "QLearnState = collections.namedtuple(\"LearnerState\", [\"count\", \"optim_state\"])"
      ]
    },
    {
      "cell_type": "markdown",
      "metadata": {
        "id": "CJWH2_kNZsau"
      },
      "source": [
        "Мы снова будем использовать Optax для оптимизации нашей нейронной сети в JAX. Мы сохраняем состояние оптимизатора в `learn_state` выше. Давайте теперь создадим экземпляр оптимизатора и добавим начальные параметры Q-сети в объект `QLearnParams`."
      ]
    },
    {
      "cell_type": "code",
      "execution_count": null,
      "metadata": {
        "id": "HwqKTN6BaAXE"
      },
      "outputs": [],
      "source": [
        "# Initialise Q-network optimizer\n",
        "Q_LEARN_OPTIMIZER = optax.adam(3e-4) # learning rate\n",
        "\n",
        "Q_LEARN_OPTIM_STATE = Q_LEARN_OPTIMIZER.init(Q_NETWORK_PARAMS) # initial optim state\n",
        "\n",
        "# Create Learn State\n",
        "Q_LEARNING_LEARN_STATE = QLearnState(0, Q_LEARN_OPTIM_STATE) # count set to zero initially\n",
        "\n",
        "# Add initial Q-network weights to QLearnParams object\n",
        "Q_LEARNING_PARAMS = QLearnParams(online=Q_NETWORK_PARAMS, target=Q_NETWORK_PARAMS) # target equal to online"
      ]
    },
    {
      "cell_type": "markdown",
      "metadata": {
        "id": "xj89M8LgZlFe"
      },
      "source": [
        "Теперь мы можем реализовать простую функцию, которая обновляет параметры целевых сетей, чтобы они соответствовали последним онлайн-параметрам каждые 100 шагов обучения."
      ]
    },
    {
      "cell_type": "code",
      "execution_count": null,
      "metadata": {
        "id": "SKrg_3rO6cCL"
      },
      "outputs": [],
      "source": [
        "def update_target_params(learn_state, online_weights, target_weights):\n",
        "  \"\"\"A function to update target params every 100 training steps\"\"\"\n",
        "\n",
        "  target = jax.lax.cond(\n",
        "      jax.numpy.mod(learn_state.count, 100) == 0,\n",
        "      lambda x, y: x,\n",
        "      lambda x, y: y,\n",
        "      online_weights,\n",
        "      target_weights\n",
        "  )\n",
        "\n",
        "  params = QLearnParams(online_weights, target)\n",
        "\n",
        "  return params"
      ]
    },
    {
      "cell_type": "markdown",
      "metadata": {
        "id": "KoiaYSo9ZyLq"
      },
      "source": [
        "### Q-learning loss (Функция потери Q-обучения)\n",
        "Теперь у нас есть все необходимое для реализации функции `q_learn`, которая принимает некоторую партию переходов и выполняет шаг Q-обучения для обновления параметров сети. Но сначала мы используем `jax.vmap` для изменения функции `q_learning_loss` так, чтобы она принимала партии переходов. Кроме того, мы вычислим Q-значения, передавая наблюдения через `Q_NETWORK`, и целевые Q-значения, используя целевые параметры `Q_NETWORK`."
      ]
    },
    {
      "cell_type": "code",
      "execution_count": null,
      "metadata": {
        "id": "hnrsGppWZyLq"
      },
      "outputs": [],
      "source": [
        "def batched_q_learning_loss(online_params, target_params, obs, actions, rewards, next_obs, dones):\n",
        "    q_values = Q_NETWORK.apply(online_params, obs) # use the online parameters\n",
        "    next_q_values = Q_NETWORK.apply(target_params, next_obs) # use the target parameters\n",
        "    squared_error = jax.vmap(q_learning_loss)(q_values, actions, rewards, dones, next_q_values) # vmap q_learning_loss\n",
        "    mean_squared_error = jnp.mean(squared_error) # mean squared error over batch\n",
        "    return mean_squared_error"
      ]
    },
    {
      "cell_type": "markdown",
      "metadata": {
        "id": "CU8vo9ZebnEa"
      },
      "source": [
        "Теперь мы можем создать функцию `q_learn`, которая вычисляет градиент `batched_q_learning_loss`, а затем использует оптимизатор Optax для обновления весов сети, а затем, наконец (возможно), обновляет целевые параметры."
      ]
    },
    {
      "cell_type": "code",
      "execution_count": null,
      "metadata": {
        "id": "6BYoX2W_ZyLr"
      },
      "outputs": [],
      "source": [
        "def q_learn(rng, params, learner_state, memory):\n",
        "  # Compute gradients\n",
        "  grad_loss = jax.grad(batched_q_learning_loss)(params.online, params.target, memory.obs,\n",
        "                                          memory.action, memory.reward,\n",
        "                                          memory.next_obs, memory.done,\n",
        "                                          ) # jax.grad\n",
        "\n",
        "  # Get updates\n",
        "  updates, opt_state = Q_LEARN_OPTIMIZER.update(grad_loss, learner_state.optim_state)\n",
        "\n",
        "  # Apply them\n",
        "  new_weights = optax.apply_updates(params.online, updates)\n",
        "\n",
        "  # Maybe update target network\n",
        "  params = update_target_params(learner_state, new_weights, params.target)\n",
        "\n",
        "  # Increment learner step counter\n",
        "  learner_state = QLearnState(learner_state.count + 1, opt_state)\n",
        "\n",
        "  return params, learner_state"
      ]
    },
    {
      "cell_type": "markdown",
      "metadata": {
        "id": "VpZsKHssZyLq"
      },
      "source": [
        "### Replay Buffer (Буфер воспроизведения)\n",
        "Для Q-обучения нам понадобится память агента, которая хранит целые переходы: `obs`, `action`, `reward`, `next_obs`, `done`. Когда мы извлекаем переходы из памяти, они должны выбираться случайным образом из всех переходов, собранных до сих пор. В RL мы часто называем такой модуль **буфером воспроизведения**.\n",
        "\n",
        "Одним из преимуществ использования такого буфера воспроизведения является то, что опыт можно повторно использовать несколько раз для обучения, в отличие от алгоритма градиента политики REINFORCE, где мы отбрасывали воспоминания после их использования для обучения."
      ]
    },
    {
      "cell_type": "code",
      "execution_count": null,
      "metadata": {
        "id": "8tv5dUH6ZyLr"
      },
      "outputs": [],
      "source": [
        "class TransitionMemory(object):\n",
        "  \"\"\"A simple Python replay buffer.\"\"\"\n",
        "\n",
        "  def __init__(self, max_size=10_000, batch_size=256):\n",
        "    self.batch_size = batch_size\n",
        "    self.buffer = collections.deque(maxlen=max_size)\n",
        "\n",
        "  def push(self, transition):\n",
        "\n",
        "    # add transition to the replay buffer\n",
        "    self.buffer.append(\n",
        "        (transition.obs, transition.action, transition.reward,\n",
        "          transition.next_obs, transition.done)\n",
        "    )\n",
        "\n",
        "\n",
        "  def is_ready(self):\n",
        "    return self.batch_size <= len(self.buffer)\n",
        "\n",
        "  def sample(self):\n",
        "    # Randomly sample a batch of transitions from the buffer\n",
        "    random_replay_sample = random.sample(self.buffer, self.batch_size)\n",
        "\n",
        "    # Batch the transitions together\n",
        "    obs_batch, action_batch, reward_batch, next_obs_batch, done_batch = zip(*random_replay_sample)\n",
        "\n",
        "    return Transition(\n",
        "        np.stack(obs_batch).astype(\"float32\"),\n",
        "        np.asarray(action_batch).astype(\"int32\"),\n",
        "        np.asarray(reward_batch).astype(\"float32\"),\n",
        "        np.stack(next_obs_batch).astype(\"float32\"),\n",
        "        np.asarray(done_batch).astype(\"float32\")\n",
        "    )\n",
        "\n",
        "# Instantiate the memory\n",
        "Q_LEARNING_MEMORY = TransitionMemory(max_size=50_000, batch_size=256)"
      ]
    },
    {
      "cell_type": "markdown",
      "metadata": {
        "id": "XbHk03VVUHAV"
      },
      "source": [
        "### Случайное исследование\n",
        "У нас почти есть все, что нужно для функционирующего агента Q-обучения. Но одна проблема заключается в том, что если мы всегда выбираем действие с наивысшим значением Q, то политика агента будет полностью [детерминированной](https://www.quora.com/What-is-the-intuitive-difference-between-a-stochastic-model-and-a-deterministic-model). Это означает, что агент всегда будет выбирать одну и ту же стратегию. Это может представлять проблему, поскольку в начале обучения Q-сеть будет очень неточной (т. е. плохой аппроксимацией истинной Q-функции). Таким образом, агент будет последовательно выбирать неоптимальные действия. Более того, агент никогда не отклонится от своей неоптимальной стратегии и никогда не обнаружит новые, потенциально более полезные действия. В результате Q-сеть остается неточной. В идеале агент должен опробовать много разных стратегий, чтобы он мог наблюдать результаты (вознаграждения) своих действий в разных состояниях и таким образом улучшить приближение Q-функции.\n",
        "\n",
        "Один простой способ гарантировать, что агент опробует много разных действий, — позволить ему периодически выбирать некоторые случайные действия вместо жадного (лучшего) действия все время.\n",
        "\n",
        "**Упражнение 14:** Реализуйте функцию, которая, учитывая количество возможных (дискретных) действий, возвращает случайное действие.\n",
        "\n",
        "**Полезные методы:**\n",
        "\n",
        "*  `jax.random.randint` ([docs](https://jax.readthedocs.io/en/latest/_autosummary/jax.random.randint.html))"
      ]
    },
    {
      "cell_type": "code",
      "execution_count": null,
      "metadata": {
        "id": "uUKkpMLXUtko"
      },
      "outputs": [],
      "source": [
        "def select_random_action(key, num_actions):\n",
        "\n",
        "    # YOUR CODE\n",
        "    action = jax.random.randint(key, minval=0, maxval=num_actions, shape=())\n",
        "    # END YOUR CODE\n",
        "\n",
        "    return action"
      ]
    },
    {
      "cell_type": "code",
      "execution_count": null,
      "metadata": {
        "id": "NO6va6S2Y40E",
        "colab": {
          "base_uri": "https://localhost:8080/"
        },
        "outputId": "c9fe1d6b-ab0b-42fa-8459-c9b8732542b1"
      },
      "outputs": [
        {
          "output_type": "stream",
          "name": "stdout",
          "text": [
            "Looks good.\n"
          ]
        }
      ],
      "source": [
        "#@title Проверка упр 14 {display-mode: \"form\"}\n",
        "\n",
        "try:\n",
        "  random_key1 = random_key = jax.random.PRNGKey(6) # random key\n",
        "  random_key2 = random_key = jax.random.PRNGKey(1000) # random key\n",
        "  result1 = select_random_action(random_key1, 2)\n",
        "  result2 = select_random_action(random_key2, 2)\n",
        "\n",
        "  if result1 != 1 or result2 != 0:\n",
        "    print(\"Your implementation looks wrong.\")\n",
        "  else:\n",
        "    print(\"Looks good.\")\n",
        "except:\n",
        "  print(\"Your implementation looks wrong.\")"
      ]
    },
    {
      "cell_type": "markdown",
      "metadata": {
        "id": "8-kKDFT6XU6y"
      },
      "source": [
        "### $\\varepsilon$-greedy action selection (эпсилон жадный выбор действия)\n",
        "В начале обучения, когда точность Q-сети низкая, агенту стоит в основном совершать случайные действия, чтобы он мог узнать, насколько хороши/плохи действия. Однако по мере повышения точности Q-сети агент должен начать совершать меньше случайных действий и вместо этого начать выбирать жадные действия относительно Q-значений. Выбор лучших действий с учетом текущей Q-сети называется **эксплуатацией**. В RL мы часто называем отношение случайных и жадных действий **эпсилоном** $\\varepsilon$. Эпсилон обычно представляет собой десятичное значение в интервале $[0,1]$, где, например, $\\varepsilon=0.4$ означает, что агент выбирает случайное действие в 40% случаев, а жадное действие — в 60% случаев. В RL принято линейно уменьшать значение эпсилон с течением времени, так что агент становится все более жадным по мере повышения точности его Q-сети в процессе обучения.\n",
        "\n",
        "**Упражнение 15:** Реализуйте функцию, которая принимает количество временных шагов в качестве входных данных и возвращает текущее значение эпсилон."
      ]
    },
    {
      "cell_type": "code",
      "execution_count": null,
      "metadata": {
        "id": "_qejnbCocurG"
      },
      "outputs": [],
      "source": [
        "EPSILON_DECAY_TIMESTEPS = 3000 # decay epsilon over 3000 timesteps\n",
        "EPSILON_MIN = 0.1 # 10% exploration"
      ]
    },
    {
      "cell_type": "code",
      "execution_count": null,
      "metadata": {
        "id": "5ujSbssCZyLs"
      },
      "outputs": [],
      "source": [
        "def get_epsilon(num_timesteps):\n",
        "  # YOUR CODE\n",
        "  epsilon = 1.0 - (num_timesteps/EPSILON_DECAY_TIMESTEPS) # decay epsilon\n",
        "\n",
        "  epsilon = jax.lax.select(\n",
        "      epsilon < EPSILON_MIN,\n",
        "      EPSILON_MIN, # if less than min then set to min\n",
        "      epsilon # else don't change epsilon\n",
        "  )\n",
        "  # END YOUR CODE\n",
        "\n",
        "  return epsilon"
      ]
    },
    {
      "cell_type": "code",
      "execution_count": null,
      "metadata": {
        "id": "hvu4zA64aUou",
        "colab": {
          "base_uri": "https://localhost:8080/"
        },
        "outputId": "d66772fb-1d34-4014-c7e2-722722820bbb"
      },
      "outputs": [
        {
          "output_type": "stream",
          "name": "stdout",
          "text": [
            "Your function looks correct.\n"
          ]
        }
      ],
      "source": [
        "#@title Проверка упр 15 {display-mode: \"form\"}\n",
        "def check_get_epsilon(get_epsilon):\n",
        "  try:\n",
        "    result1 = get_epsilon(10)\n",
        "    result2 = get_epsilon(5_010)\n",
        "\n",
        "    if result1 != 0.99666667 or result2 != 0.1:\n",
        "      print(\"Your function looks wrong.\")\n",
        "    else:\n",
        "      print(\"Your function looks correct.\")\n",
        "  except:\n",
        "    print(\"Your function looks wrong.\")\n",
        "\n",
        "check_get_epsilon(get_epsilon)\n"
      ]
    },
    {
      "cell_type": "markdown",
      "metadata": {
        "id": "t56oo58TVQ_s"
      },
      "source": [
        "**Упражнение 16:** Теперь давайте объединим эти функции для выполнения эпсилон-жадного выбора действия."
      ]
    },
    {
      "cell_type": "code",
      "execution_count": null,
      "metadata": {
        "id": "NlQx8K4vKUXj"
      },
      "outputs": [],
      "source": [
        "def select_epsilon_greedy_action(key, q_values, num_timesteps):\n",
        "    num_actions = len(q_values) # number of available actions\n",
        "\n",
        "    # YOUR CODE HERE\n",
        "    epsilon = get_epsilon(num_timesteps) # get epsilon value\n",
        "\n",
        "    should_explore = jax.random.uniform(key, shape=()) < epsilon # hint: a boolean expression to check if some random number is less than epsilon\n",
        "\n",
        "    explore_action = select_random_action(key, num_actions)\n",
        "    greedy_action = jax.numpy.argmax(q_values)\n",
        "\n",
        "    action = jax.lax.select(\n",
        "        should_explore,\n",
        "        explore_action, # if should explore\n",
        "        greedy_action # if should be greedy\n",
        "    )\n",
        "    # END YOUR CODE\n",
        "\n",
        "    return action\n"
      ]
    },
    {
      "cell_type": "code",
      "execution_count": null,
      "metadata": {
        "id": "mkVU2a5e7P6b",
        "colab": {
          "base_uri": "https://localhost:8080/"
        },
        "outputId": "f08c94d6-6b2d-46b1-f663-ea30b1e57268"
      },
      "outputs": [
        {
          "output_type": "stream",
          "name": "stdout",
          "text": [
            "Looks correct!\n"
          ]
        }
      ],
      "source": [
        "#@title Проверка упражнения 16 {display-mode: \"form\"}\n",
        "\n",
        "try:\n",
        "  rng = hk.PRNGSequence(jax.random.PRNGKey(42))\n",
        "  dummy_q_values = jnp.array([0,1], jnp.float32)\n",
        "  num_timesteps = 5010 # very greedy\n",
        "  actions1 = []\n",
        "  for i in range(10):\n",
        "      actions1.append(int(select_epsilon_greedy_action(next(rng), dummy_q_values, num_timesteps)))\n",
        "\n",
        "  num_timesteps = 0 # completly random\n",
        "  actions2 = []\n",
        "  for i in range(10):\n",
        "      actions2.append(int(select_epsilon_greedy_action(next(rng), dummy_q_values, num_timesteps)))\n",
        "\n",
        "  if actions1 != [1, 1, 0, 1, 1, 0, 1, 1, 1, 1] or actions2 != [0, 0, 0, 1, 1, 1, 1, 0, 0, 0]:\n",
        "    print(\"Looks like something might be incorrect!\")\n",
        "  else:\n",
        "    print(\"Looks correct!\")\n",
        "except:\n",
        "  print(\"Looks like something might be incorrect!\")"
      ]
    },
    {
      "cell_type": "markdown",
      "metadata": {
        "id": "y5W23MnobN9x"
      },
      "source": [
        "### Действие выбора Q-learning\n",
        "\n",
        "Теперь у нас есть все необходимое для создания функции `q_learning_select_action`. Мы будем использовать `actor_state` для хранения счетчика, который отслеживает текущее количество временных шагов. Мы можем использовать счетчик для уменьшения нашего значения `epsilon`."
      ]
    },
    {
      "cell_type": "code",
      "execution_count": null,
      "metadata": {
        "id": "81TysLc0RjM6"
      },
      "outputs": [],
      "source": [
        "# Actor state stores the current number of timesteps\n",
        "QActorState = collections.namedtuple(\"ActorState\", [\"count\"])\n",
        "\n",
        "def q_learning_select_action(key, params, actor_state, obs, evaluation=False):\n",
        "    obs = jnp.expand_dims(obs, axis=0) # add dummy batch dim\n",
        "    q_values = Q_NETWORK.apply(params.online, obs)[0] # remove batch dim\n",
        "\n",
        "    action = select_epsilon_greedy_action(key, q_values, actor_state.count)\n",
        "    greedy_action = select_greedy_action(q_values)\n",
        "\n",
        "    action = jax.lax.select(\n",
        "        evaluation,\n",
        "        greedy_action,\n",
        "        action\n",
        "    )\n",
        "\n",
        "    next_actor_state = QActorState(actor_state.count + 1) # increment timestep counter\n",
        "\n",
        "    return action, next_actor_state\n",
        "\n",
        "Q_LEARNING_ACTOR_STATE = QActorState(0) # counter set to zero"
      ]
    },
    {
      "cell_type": "markdown",
      "metadata": {
        "id": "z884-1oNRGEr"
      },
      "source": [
        "### Обучение\n",
        "Теперь мы можем собрать все вместе, используя цикл агент-среда. Но сначала давайте объединим функцию выбора действия и функцию обучения для дополнительной скорости."
      ]
    },
    {
      "cell_type": "code",
      "execution_count": null,
      "metadata": {
        "id": "xbdHDbd1RjM8",
        "colab": {
          "base_uri": "https://localhost:8080/",
          "height": 680
        },
        "outputId": "f095a5d0-38be-49c6-e76c-2fd3f4548911"
      },
      "outputs": [
        {
          "output_type": "stream",
          "name": "stdout",
          "text": [
            "Starting training. This may take up to 8 minutes to complete.\n",
            "Episode: 0\tEpisode Return: 16.0\tAverage Episode Return: 16.0\tEvaluator Episode Return: 8.875\n",
            "Episode: 100\tEpisode Return: 15.0\tAverage Episode Return: 13.7\tEvaluator Episode Return: 9.5\n",
            "Episode: 200\tEpisode Return: 10.0\tAverage Episode Return: 9.85\tEvaluator Episode Return: 9.5\n",
            "Episode: 300\tEpisode Return: 10.0\tAverage Episode Return: 12.95\tEvaluator Episode Return: 9.0\n",
            "Episode: 400\tEpisode Return: 9.0\tAverage Episode Return: 9.85\tEvaluator Episode Return: 9.375\n",
            "Episode: 500\tEpisode Return: 54.0\tAverage Episode Return: 61.1\tEvaluator Episode Return: 69.75\n",
            "Episode: 600\tEpisode Return: 181.0\tAverage Episode Return: 102.85\tEvaluator Episode Return: 87.125\n",
            "Episode: 700\tEpisode Return: 200.0\tAverage Episode Return: 150.8\tEvaluator Episode Return: 185.25\n",
            "Episode: 800\tEpisode Return: 200.0\tAverage Episode Return: 191.15\tEvaluator Episode Return: 185.375\n",
            "Episode: 900\tEpisode Return: 200.0\tAverage Episode Return: 200.0\tEvaluator Episode Return: 200.0\n",
            "Episode: 1000\tEpisode Return: 12.0\tAverage Episode Return: 13.85\tEvaluator Episode Return: 15.5\n"
          ]
        },
        {
          "output_type": "display_data",
          "data": {
            "text/plain": [
              "<Figure size 640x480 with 1 Axes>"
            ],
            "image/png": "[encoded data removed]"
          },
          "metadata": {}
        }
      ],
      "source": [
        "# Jit functions\n",
        "q_learning_select_action_jit = jax.jit(q_learning_select_action)\n",
        "q_learn_jit = jax.jit(q_learn)\n",
        "\n",
        "# Run environment loop\n",
        "print(\"Starting training. This may take up to 8 minutes to complete.\")\n",
        "episode_returns, evaluator_returns = run_training_loop(\n",
        "                                        env_name,\n",
        "                                        Q_LEARNING_PARAMS,\n",
        "                                        q_learning_select_action_jit,\n",
        "                                        Q_LEARNING_ACTOR_STATE,\n",
        "                                        q_learn_jit,\n",
        "                                        Q_LEARNING_LEARN_STATE,\n",
        "                                        Q_LEARNING_MEMORY,\n",
        "                                        num_episodes=1001,\n",
        "                                        train_every_timestep=True, # do learning after every timestep\n",
        "                                        video_subdir=\"q_learning\"\n",
        "                                    )\n",
        "\n",
        "plt.plot(episode_returns)\n",
        "plt.xlabel(\"Episodes\")\n",
        "plt.ylabel(\"Episode Return\")\n",
        "plt.title(\"Deep Q-Learning\")\n",
        "plt.show()"
      ]
    },
    {
      "cell_type": "markdown",
      "metadata": {
        "id": "2k0-41wbpFDE"
      },
      "source": [
        "На этом этапе, как мы надеемся, приближенная Q-функция сошлась к приемлемой политике балансировки шеста в задаче CartPole."
      ]
    },
    {
      "cell_type": "code",
      "execution_count": null,
      "metadata": {
        "id": "t4v0ZbB4FQUs",
        "colab": {
          "base_uri": "https://localhost:8080/",
          "height": 288
        },
        "outputId": "4f063ebd-475e-4cac-fd3c-0408a6908da8"
      },
      "outputs": [
        {
          "output_type": "execute_result",
          "data": {
            "text/plain": [
              "<IPython.core.display.HTML object>"
            ],
            "text/html": [
              "\n",
              "<video width=400 controls>\n",
              "      <source src=\"data:video/mp4;base64,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\" type=\"video/mp4\">\n",
              "</video>\n"
            ]
          },
          "metadata": {},
          "execution_count": 176
        }
      ],
      "source": [
        "#@title Визуализация политики\n",
        "#@markdown Выберите номер эпизода, кратный 100 и меньший или равный 1000, и **запустите эту ячейку**.\n",
        "episode_number = 900 #@param {type:\"number\"}\n",
        "\n",
        "assert (episode_number % 100) == 0, \"Episode number must be a multiple of 100 since we only record every 100th episode.\"\n",
        "assert episode_number < 1001, \"Episode number must be less than or equal to 1000\"\n",
        "\n",
        "\n",
        "eval_episode_number = int(episode_number / 100 * 8)\n",
        "video_path = f\"./video/q_learning/eval/rl-video-episode-{eval_episode_number}.mp4\"\n",
        "\n",
        "mp4 = open(video_path,'rb').read()\n",
        "data_url = \"data:video/mp4;base64,\" + b64encode(mp4).decode()\n",
        "HTML(\"\"\"\n",
        "<video width=400 controls>\n",
        "      <source src=\"%s\" type=\"video/mp4\">\n",
        "</video>\n",
        "\"\"\" % data_url)"
      ]
    },
    {
      "cell_type": "markdown",
      "metadata": {
        "id": "fV3YG7QOZD-B"
      },
      "source": [
        "Кроме того, существует множество алгоритмов RL, которые вносят существенные улучшения в REINFORCE и Deep Q-Learning. См. эти ресурсы:\n",
        "* [REINFORCE с базовым уровнем](https://spinningup.openai.com/en/latest/spinningup/rl_intro3.html#baselines-in-policy-gradients)\n",
        "* [Double Deep Q-Network](https://arxiv.org/pdf/1509.06461.pdf)\n",
        "* [Proximal Policy Optimisation (PPO)](https://arxiv.org/pdf/1707.06347.pdf)\n",
        "\n",
        "Если вы ищете более углубленный онлайн-курс по RL, вы можете ознакомиться с этими курсами:\n",
        "* [Reinforcement Learning Foundations on LinkedIn Learning](https://www.linkedin.com/learning/reinforcement-learning-foundations) (создано одним из наших собственных преподавателей, Хаулатом Абдулхакимом)\n",
        "* [Введение в Reinforcement Learning on FreeCodeCamp](https://www.freecodecamp.org/news/an-introduction-to-reinforcement-learning-4339519de419/)\n",
        "* [Специализация обучения с подкреплением на Coursera](https://www.coursera.org/specializations/reinforcement-learning)\n",
        "\n",
        "Наконец, самый влиятельный учебник по обучению с подкреплением доступен бесплатно онлайн:\n",
        "* [Обучение с подкреплением: введение](http://incompleteideas.net/book/the-book-2nd.html) Ричарда С. Саттона и Эндрю Г. Барто\n",
        "\n",
        "\n",
        "**Ссылки:**\n",
        "\n",
        "* [OpenAI Spinning Up](https://spinningup.openai.com/en/latest/)\n",
        "* [Deep Q-Network]()"
      ]
    },
    {
      "cell_type": "code",
      "source": [],
      "metadata": {
        "id": "6V47Vd_i3qk7"
      },
      "execution_count": null,
      "outputs": []
    }
  ],
  "metadata": {
    "colab": {
      "provenance": [],
      "gpuType": "T4"
    },
    "kernelspec": {
      "display_name": "Python 3",
      "name": "python3"
    },
    "language_info": {
      "codemirror_mode": {
        "name": "ipython",
        "version": 3
      },
      "file_extension": ".py",
      "mimetype": "text/x-python",
      "name": "python",
      "nbconvert_exporter": "python",
      "pygments_lexer": "ipython3",
      "version": "3.8.13"
    },
    "vscode": {
      "interpreter": {
        "hash": "0f35138c66f99be0fd7a1210bb4aa94a6fbaa5f29d51ad43aec0e0ea0ff050f0"
      }
    }
  },
  "nbformat": 4,
  "nbformat_minor": 0
}